{
 "cells": [
  {
   "cell_type": "markdown",
   "metadata": {},
   "source": [
    "# Starbucks Capstone Challenge\n",
    "\n",
    "## Introduction\n",
    "\n",
    "This data set contains simulated data that mimics customer behavior on the Starbucks rewards mobile app. Once every few days, Starbucks sends out an offer to users of the mobile app. An offer can be merely an advertisement for a drink or an actual offer such as a discount or BOGO (buy one get one free). Some users might not receive any offer during certain weeks. \n",
    "\n",
    "Not all users receive the same offer, and that is the challenge to solve with this data set.\n",
    "\n",
    "Your task is to combine transaction, demographic and offer data to determine which demographic groups respond best to which offer type. This data set is a simplified version of the real Starbucks app because the underlying simulator only has one product whereas Starbucks actually sells dozens of products.\n",
    "\n",
    "Every offer has a validity period before the offer expires. As an example, a BOGO offer might be valid for only 5 days. You'll see in the data set that informational offers have a validity period even though these ads are merely providing information about a product; for example, if an informational offer has 7 days of validity, you can assume the customer is feeling the influence of the offer for 7 days after receiving the advertisement.\n",
    "\n",
    "You'll be given transactional data showing user purchases made on the app including the timestamp of purchase and the amount of money spent on a purchase. This transactional data also has a record for each offer that a user receives as well as a record for when a user actually views the offer. There are also records for when a user completes an offer. \n",
    "\n",
    "Keep in mind as well that someone using the app might make a purchase through the app without having received an offer or seen an offer.\n",
    "\n",
    "## Example\n",
    "\n",
    "To give an example, a user could receive a discount offer buy 10 dollars get 2 off on Monday. The offer is valid for 10 days from receipt. If the customer accumulates at least 10 dollars in purchases during the validity period, the customer completes the offer.\n",
    "\n",
    "However, there are a few things to watch out for in this data set. Customers do not opt into the offers that they receive; in other words, a user can receive an offer, never actually view the offer, and still complete the offer. For example, a user might receive the \"buy 10 dollars get 2 dollars off offer\", but the user never opens the offer during the 10 day validity period. The customer spends 15 dollars during those ten days. There will be an offer completion record in the data set; however, the customer was not influenced by the offer because the customer never viewed the offer.\n",
    "\n",
    "## Cleaning\n",
    "\n",
    "This makes data cleaning especially important and tricky.\n",
    "\n",
    "You'll also want to take into account that some demographic groups will make purchases even if they don't receive an offer. From a business perspective, if a customer is going to make a 10 dollar purchase without an offer anyway, you wouldn't want to send a buy 10 dollars get 2 dollars off offer. You'll want to try to assess what a certain demographic group will buy when not receiving any offers.\n",
    "\n",
    "## Final Advice\n",
    "\n",
    "Because this is a capstone project, you are free to analyze the data any way you see fit. For example, you could build a machine learning model that predicts how much someone will spend based on demographics and offer type. Or you could build a model that predicts whether or not someone will respond to an offer. Or, you don't need to build a machine learning model at all. You could develop a set of heuristics that determine what offer you should send to each customer (i.e., 75 percent of women customers who were 35 years old responded to offer A vs 40 percent from the same demographic to offer B, so send offer A)."
   ]
  },
  {
   "cell_type": "markdown",
   "metadata": {},
   "source": [
    "# Data Sets\n",
    "\n",
    "The data is contained in three files:\n",
    "\n",
    "* portfolio.json - containing offer ids and meta data about each offer (duration, type, etc.)\n",
    "* profile.json - demographic data for each customer\n",
    "* transcript.json - records for transactions, offers received, offers viewed, and offers completed\n",
    "\n",
    "Here is the schema and explanation of each variable in the files:\n",
    "\n",
    "**portfolio.json**\n",
    "* id (string) - offer id\n",
    "* offer_type (string) - type of offer ie BOGO, discount, informational\n",
    "* difficulty (int) - minimum required spend to complete an offer\n",
    "* reward (int) - reward given for completing an offer\n",
    "* duration (int) - time for offer to be open, in days\n",
    "* channels (list of strings)\n",
    "\n",
    "**profile.json**\n",
    "* age (int) - age of the customer \n",
    "* became_member_on (int) - date when customer created an app account\n",
    "* gender (str) - gender of the customer (note some entries contain 'O' for other rather than M or F)\n",
    "* id (str) - customer id\n",
    "* income (float) - customer's income\n",
    "\n",
    "**transcript.json**\n",
    "* event (str) - record description (ie transaction, offer received, offer viewed, etc.)\n",
    "* person (str) - customer id\n",
    "* time (int) - time in hours since start of test. The data begins at time t=0\n",
    "* value - (dict of strings) - either an offer id or transaction amount depending on the record\n",
    "\n",
    "**Note:** If you are using the workspace, you will need to go to the terminal and run the command `conda update pandas` before reading in the files. This is because the version of pandas in the workspace cannot read in the transcript.json file correctly, but the newest version of pandas can. You can access the termnal from the orange icon in the top left of this notebook.  \n",
    "\n",
    "You can see how to access the terminal and how the install works using the two images below.  First you need to access the terminal:\n",
    "\n",
    "<img src=\"pic1.png\"/>\n",
    "\n",
    "Then you will want to run the above command:\n",
    "\n",
    "<img src=\"pic2.png\"/>\n",
    "\n",
    "Finally, when you enter back into the notebook (use the jupyter icon again), you should be able to run the below cell without any errors."
   ]
  },
  {
   "cell_type": "code",
   "execution_count": 94,
   "metadata": {},
   "outputs": [],
   "source": [
    "import pandas as pd\n",
    "import numpy as np\n",
    "import math\n",
    "import json\n",
    "import datetime\n",
    "import pickle\n",
    "import matplotlib.pyplot as plt\n",
    "import seaborn as sns\n",
    "import re\n",
    "import os\n",
    "from sklearn.model_selection import train_test_split\n",
    "from sklearn.preprocessing import LabelBinarizer\n",
    "from sklearn.ensemble import RandomForestClassifier\n",
    "from sklearn.preprocessing import MinMaxScaler\n",
    "from sklearn.metrics import accuracy_score, f1_score\n",
    "from sklearn.ensemble import GradientBoostingClassifier, RandomForestClassifier\n",
    "from sklearn.linear_model import LogisticRegression\n",
    "from sklearn.metrics import fbeta_score, make_scorer\n",
    "from sklearn.model_selection import GridSearchCV\n",
    "from sklearn.model_selection import RandomizedSearchCV\n",
    "from joblib import dump, load\n",
    "from sklearn.preprocessing import LabelBinarizer, MultiLabelBinarizer\n",
    "%matplotlib inline\n",
    "from datetime import datetime\n",
    "import progressbar"
   ]
  },
  {
   "cell_type": "code",
   "execution_count": 19,
   "metadata": {},
   "outputs": [],
   "source": [
    "# read in the json files\n",
    "portfolio = pd.read_json('data/portfolio.json', orient='records', lines=True)\n",
    "profile = pd.read_json('data/profile.json', orient='records', lines=True)\n",
    "transcript = pd.read_json('data/transcript.json', orient='records', lines=True)"
   ]
  },
  {
   "cell_type": "markdown",
   "metadata": {},
   "source": [
    "# Python version used to perform analysis"
   ]
  },
  {
   "cell_type": "code",
   "execution_count": 7,
   "metadata": {},
   "outputs": [
    {
     "name": "stdout",
     "output_type": "stream",
     "text": [
      "3.7.4 (default, Aug  9 2019, 18:34:13) [MSC v.1915 64 bit (AMD64)]\n"
     ]
    }
   ],
   "source": [
    "import sys\n",
    "print(sys.version)"
   ]
  },
  {
   "cell_type": "markdown",
   "metadata": {},
   "source": [
    "# Data Exploration and transformation"
   ]
  },
  {
   "cell_type": "markdown",
   "metadata": {},
   "source": [
    "## Portolio Data"
   ]
  },
  {
   "cell_type": "markdown",
   "metadata": {},
   "source": [
    "### Exploratory Data Analysis (EDA) on Portfolio data\n",
    "- Offer record attributes\n",
    "    * id (string) - Offer id\n",
    "    * offer_type (string) - String that describes the offer type\n",
    "        * bogo (Buy One Get One Free)  \n",
    "        * discount\n",
    "        * informational\n",
    "    * difficulty (int) - Minimum amount a customer must spend to complete an offer\n",
    "    * reward (int) - Reward given for completing an offer\n",
    "    * duration (int) - Offer duration [days]  \n",
    "    * channels (list of strings)\n",
    "- EDA conclusions  \n",
    "    - Channels variable is multi-label (can split using [MultiLabelBinarizer](https://scikit-learn.org/stable/modules/generated/sklearn.preprocessing.MultiLabelBinarizer.html#sklearn.preprocessing.MultiLabelBinarizer))  \n",
    "    - Need to rename 'id' variable to 'offerid'\n",
    "    - Need to [One Hot Encode (OHE)](https://machinelearningmastery.com/why-one-hot-encode-data-in-machine-learning/) 'offer_type' variable "
   ]
  },
  {
   "cell_type": "code",
   "execution_count": 20,
   "metadata": {},
   "outputs": [
    {
     "data": {
      "text/html": [
       "<div>\n",
       "<style scoped>\n",
       "    .dataframe tbody tr th:only-of-type {\n",
       "        vertical-align: middle;\n",
       "    }\n",
       "\n",
       "    .dataframe tbody tr th {\n",
       "        vertical-align: top;\n",
       "    }\n",
       "\n",
       "    .dataframe thead th {\n",
       "        text-align: right;\n",
       "    }\n",
       "</style>\n",
       "<table border=\"1\" class=\"dataframe\">\n",
       "  <thead>\n",
       "    <tr style=\"text-align: right;\">\n",
       "      <th></th>\n",
       "      <th>reward</th>\n",
       "      <th>channels</th>\n",
       "      <th>difficulty</th>\n",
       "      <th>duration</th>\n",
       "      <th>offer_type</th>\n",
       "      <th>id</th>\n",
       "    </tr>\n",
       "  </thead>\n",
       "  <tbody>\n",
       "    <tr>\n",
       "      <td>0</td>\n",
       "      <td>10</td>\n",
       "      <td>[email, mobile, social]</td>\n",
       "      <td>10</td>\n",
       "      <td>7</td>\n",
       "      <td>bogo</td>\n",
       "      <td>ae264e3637204a6fb9bb56bc8210ddfd</td>\n",
       "    </tr>\n",
       "    <tr>\n",
       "      <td>1</td>\n",
       "      <td>10</td>\n",
       "      <td>[web, email, mobile, social]</td>\n",
       "      <td>10</td>\n",
       "      <td>5</td>\n",
       "      <td>bogo</td>\n",
       "      <td>4d5c57ea9a6940dd891ad53e9dbe8da0</td>\n",
       "    </tr>\n",
       "    <tr>\n",
       "      <td>2</td>\n",
       "      <td>0</td>\n",
       "      <td>[web, email, mobile]</td>\n",
       "      <td>0</td>\n",
       "      <td>4</td>\n",
       "      <td>informational</td>\n",
       "      <td>3f207df678b143eea3cee63160fa8bed</td>\n",
       "    </tr>\n",
       "    <tr>\n",
       "      <td>3</td>\n",
       "      <td>5</td>\n",
       "      <td>[web, email, mobile]</td>\n",
       "      <td>5</td>\n",
       "      <td>7</td>\n",
       "      <td>bogo</td>\n",
       "      <td>9b98b8c7a33c4b65b9aebfe6a799e6d9</td>\n",
       "    </tr>\n",
       "    <tr>\n",
       "      <td>4</td>\n",
       "      <td>5</td>\n",
       "      <td>[web, email]</td>\n",
       "      <td>20</td>\n",
       "      <td>10</td>\n",
       "      <td>discount</td>\n",
       "      <td>0b1e1539f2cc45b7b9fa7c272da2e1d7</td>\n",
       "    </tr>\n",
       "  </tbody>\n",
       "</table>\n",
       "</div>"
      ],
      "text/plain": [
       "   reward                      channels  difficulty  duration     offer_type  \\\n",
       "0      10       [email, mobile, social]          10         7           bogo   \n",
       "1      10  [web, email, mobile, social]          10         5           bogo   \n",
       "2       0          [web, email, mobile]           0         4  informational   \n",
       "3       5          [web, email, mobile]           5         7           bogo   \n",
       "4       5                  [web, email]          20        10       discount   \n",
       "\n",
       "                                 id  \n",
       "0  ae264e3637204a6fb9bb56bc8210ddfd  \n",
       "1  4d5c57ea9a6940dd891ad53e9dbe8da0  \n",
       "2  3f207df678b143eea3cee63160fa8bed  \n",
       "3  9b98b8c7a33c4b65b9aebfe6a799e6d9  \n",
       "4  0b1e1539f2cc45b7b9fa7c272da2e1d7  "
      ]
     },
     "execution_count": 20,
     "metadata": {},
     "output_type": "execute_result"
    }
   ],
   "source": [
    "portfolio.head()"
   ]
  },
  {
   "cell_type": "markdown",
   "metadata": {},
   "source": [
    "### Cleaning the portfolio data\n",
    "1. Change the name of the 'id' column to 'offerid' \n",
    "2. Change the name of the 'duration' column to 'durationdays'  \n",
    "3. Remove underscores from column names  \n",
    "4. One hot encode the 'offertype' column  \n",
    "5. One hot encode the 'channels' columns  \n",
    "6. Replace the 'offertype' and 'channels' columns with their respective one hot encoded values"
   ]
  },
  {
   "cell_type": "code",
   "execution_count": 14,
   "metadata": {},
   "outputs": [],
   "source": [
    "def clean_portfolio(data_dir=\"./data\"):\n",
    "    \"\"\" \n",
    "    Transforms a DataFrame containing offer ids and meta data about \n",
    "    each offer (duration, type, etc.)\n",
    "\n",
    "    INPUT:\n",
    "        (Optional) data_dir: String that stores the full path to the\n",
    "                             data directory\n",
    "\n",
    "    OUTPUT:\n",
    "        portfolio: DataFrame containing offer ids and meta data about \n",
    "                   each offer (duration, type, etc.)\n",
    "    \"\"\"\n",
    "    portfolio = pd.read_json(os.path.join(data_dir, 'portfolio.json'),\n",
    "                             orient='records',\n",
    "                             lines=True)\n",
    "    \n",
    "    # Change the name of the 'id' column to 'offerid'\n",
    "    columns = update_column_name(portfolio,\n",
    "                                 'id',\n",
    "                                 'offerid')\n",
    "    \n",
    "    # Change the name of the 'duration' column to 'durationdays'\n",
    "    portfolio.columns = update_column_name(portfolio,\n",
    "                                           'duration',\n",
    "                                           'durationdays')\n",
    "\n",
    "    # Remove underscores from column names\n",
    "    portfolio.columns = [re.sub('_', '', elem) for elem in columns]\n",
    "\n",
    "    # Initialize a list that stores the desired output DataFrame \n",
    "    # column ordering\n",
    "    column_ordering = ['offerid',\n",
    "                       'difficulty',\n",
    "                       'durationdays',\n",
    "                       'reward']\n",
    "\n",
    "    # One hot encode the 'offertype' column\n",
    "    offertype_df = pd.get_dummies(portfolio['offertype'])\n",
    "\n",
    "    column_ordering.extend(offertype_df.columns.values)\n",
    "\n",
    "    # One hot encode the 'channels' columns\n",
    "    ml_binarizerobj = MultiLabelBinarizer()\n",
    "    ml_binarizerobj.fit(portfolio['channels'])\n",
    "\n",
    "    channels_df =\\\n",
    "        pd.DataFrame(ml_binarizerobj.transform(portfolio['channels']),\n",
    "        columns=ml_binarizerobj.classes_)\n",
    "\n",
    "    column_ordering.extend(channels_df.columns.values)\n",
    "\n",
    "    # Replace the 'offertype' and 'channels' columns\n",
    "    portfolio = pd.concat([portfolio, offertype_df, channels_df], axis=1)\n",
    "\n",
    "    portfolio = portfolio.drop(columns=['offertype', 'channels'])\n",
    "\n",
    "    # Return the \"cleaned\" portfolio data\n",
    "    return portfolio[column_ordering]"
   ]
  },
  {
   "cell_type": "code",
   "execution_count": 21,
   "metadata": {},
   "outputs": [],
   "source": [
    "def update_column_name(dataframe,\n",
    "                       old_column_name,\n",
    "                       new_column_name):\n",
    "    \"\"\" Updates a Pandas DataFrame column name\n",
    "\n",
    "    INPUT:\n",
    "        dataframe: Pandas DataFrame object\n",
    "\n",
    "        old_column_name: String that stores the old column name\n",
    "\n",
    "        new_column_name: String that stores the new column name\n",
    "\n",
    "    OUTPUT:\n",
    "        column_names: np.array that stores the updated Pandas DataFrame\n",
    "                      column names\"\"\"\n",
    "    column_names = dataframe.columns.values\n",
    "    \n",
    "    select_data = np.array([elem == old_column_name for elem in column_names])\n",
    "\n",
    "    column_names[select_data] = new_column_name\n",
    "        \n",
    "    return column_names"
   ]
  },
  {
   "cell_type": "code",
   "execution_count": 22,
   "metadata": {},
   "outputs": [],
   "source": [
    "portfolio = clean_portfolio()"
   ]
  },
  {
   "cell_type": "code",
   "execution_count": 122,
   "metadata": {},
   "outputs": [
    {
     "data": {
      "text/html": [
       "<div>\n",
       "<style scoped>\n",
       "    .dataframe tbody tr th:only-of-type {\n",
       "        vertical-align: middle;\n",
       "    }\n",
       "\n",
       "    .dataframe tbody tr th {\n",
       "        vertical-align: top;\n",
       "    }\n",
       "\n",
       "    .dataframe thead th {\n",
       "        text-align: right;\n",
       "    }\n",
       "</style>\n",
       "<table border=\"1\" class=\"dataframe\">\n",
       "  <thead>\n",
       "    <tr style=\"text-align: right;\">\n",
       "      <th></th>\n",
       "      <th>offerid</th>\n",
       "      <th>difficulty</th>\n",
       "      <th>durationdays</th>\n",
       "      <th>reward</th>\n",
       "      <th>bogo</th>\n",
       "      <th>discount</th>\n",
       "      <th>informational</th>\n",
       "      <th>email</th>\n",
       "      <th>mobile</th>\n",
       "      <th>social</th>\n",
       "      <th>web</th>\n",
       "    </tr>\n",
       "  </thead>\n",
       "  <tbody>\n",
       "    <tr>\n",
       "      <td>0</td>\n",
       "      <td>ae264e3637204a6fb9bb56bc8210ddfd</td>\n",
       "      <td>10</td>\n",
       "      <td>7</td>\n",
       "      <td>10</td>\n",
       "      <td>1</td>\n",
       "      <td>0</td>\n",
       "      <td>0</td>\n",
       "      <td>1</td>\n",
       "      <td>1</td>\n",
       "      <td>1</td>\n",
       "      <td>0</td>\n",
       "    </tr>\n",
       "    <tr>\n",
       "      <td>1</td>\n",
       "      <td>4d5c57ea9a6940dd891ad53e9dbe8da0</td>\n",
       "      <td>10</td>\n",
       "      <td>5</td>\n",
       "      <td>10</td>\n",
       "      <td>1</td>\n",
       "      <td>0</td>\n",
       "      <td>0</td>\n",
       "      <td>1</td>\n",
       "      <td>1</td>\n",
       "      <td>1</td>\n",
       "      <td>1</td>\n",
       "    </tr>\n",
       "    <tr>\n",
       "      <td>2</td>\n",
       "      <td>3f207df678b143eea3cee63160fa8bed</td>\n",
       "      <td>0</td>\n",
       "      <td>4</td>\n",
       "      <td>0</td>\n",
       "      <td>0</td>\n",
       "      <td>0</td>\n",
       "      <td>1</td>\n",
       "      <td>1</td>\n",
       "      <td>1</td>\n",
       "      <td>0</td>\n",
       "      <td>1</td>\n",
       "    </tr>\n",
       "    <tr>\n",
       "      <td>3</td>\n",
       "      <td>9b98b8c7a33c4b65b9aebfe6a799e6d9</td>\n",
       "      <td>5</td>\n",
       "      <td>7</td>\n",
       "      <td>5</td>\n",
       "      <td>1</td>\n",
       "      <td>0</td>\n",
       "      <td>0</td>\n",
       "      <td>1</td>\n",
       "      <td>1</td>\n",
       "      <td>0</td>\n",
       "      <td>1</td>\n",
       "    </tr>\n",
       "    <tr>\n",
       "      <td>4</td>\n",
       "      <td>0b1e1539f2cc45b7b9fa7c272da2e1d7</td>\n",
       "      <td>20</td>\n",
       "      <td>10</td>\n",
       "      <td>5</td>\n",
       "      <td>0</td>\n",
       "      <td>1</td>\n",
       "      <td>0</td>\n",
       "      <td>1</td>\n",
       "      <td>0</td>\n",
       "      <td>0</td>\n",
       "      <td>1</td>\n",
       "    </tr>\n",
       "  </tbody>\n",
       "</table>\n",
       "</div>"
      ],
      "text/plain": [
       "                            offerid  difficulty  durationdays  reward  bogo  \\\n",
       "0  ae264e3637204a6fb9bb56bc8210ddfd          10             7      10     1   \n",
       "1  4d5c57ea9a6940dd891ad53e9dbe8da0          10             5      10     1   \n",
       "2  3f207df678b143eea3cee63160fa8bed           0             4       0     0   \n",
       "3  9b98b8c7a33c4b65b9aebfe6a799e6d9           5             7       5     1   \n",
       "4  0b1e1539f2cc45b7b9fa7c272da2e1d7          20            10       5     0   \n",
       "\n",
       "   discount  informational  email  mobile  social  web  \n",
       "0         0              0      1       1       1    0  \n",
       "1         0              0      1       1       1    1  \n",
       "2         0              1      1       1       0    1  \n",
       "3         0              0      1       1       0    1  \n",
       "4         1              0      1       0       0    1  "
      ]
     },
     "execution_count": 122,
     "metadata": {},
     "output_type": "execute_result"
    }
   ],
   "source": [
    "portfolio.head()"
   ]
  },
  {
   "cell_type": "markdown",
   "metadata": {},
   "source": [
    "## Profile data"
   ]
  },
  {
   "cell_type": "markdown",
   "metadata": {},
   "source": [
    "###  Exploratory Data Analysis (EDA) on Customer profile data\n",
    "- Customer profile record attributes  \n",
    "    * age (int) - Customer age\n",
    "    * became_member_on (int) - Date when customer created an app account\n",
    "    * gender (str) - Customer gender (note some entries contain 'O' for other rather than M or F)  \n",
    "    * id (str) - Customer id\n",
    "    * income (float) - Customer's income  \n",
    "- Customer profile EDA conclusions\n",
    "    - Gender and income have ~ 13% missing data  \n",
    "        - Age is 118 when income is NaN  \n",
    "    - Gender is not specified for ~ 1.5% of the data  \n",
    "    - Year that a customer became a rewards member is not uniformly distributed - potential customer differentiator\n",
    "    - Month that a customer became a rewards member is approximately uniformly distributed - probably not a useful feature to include  "
   ]
  },
  {
   "cell_type": "markdown",
   "metadata": {},
   "source": [
    "#### Print the first five rows of the customer profile data"
   ]
  },
  {
   "cell_type": "code",
   "execution_count": 26,
   "metadata": {},
   "outputs": [
    {
     "data": {
      "text/html": [
       "<div>\n",
       "<style scoped>\n",
       "    .dataframe tbody tr th:only-of-type {\n",
       "        vertical-align: middle;\n",
       "    }\n",
       "\n",
       "    .dataframe tbody tr th {\n",
       "        vertical-align: top;\n",
       "    }\n",
       "\n",
       "    .dataframe thead th {\n",
       "        text-align: right;\n",
       "    }\n",
       "</style>\n",
       "<table border=\"1\" class=\"dataframe\">\n",
       "  <thead>\n",
       "    <tr style=\"text-align: right;\">\n",
       "      <th></th>\n",
       "      <th>gender</th>\n",
       "      <th>age</th>\n",
       "      <th>id</th>\n",
       "      <th>became_member_on</th>\n",
       "      <th>income</th>\n",
       "    </tr>\n",
       "  </thead>\n",
       "  <tbody>\n",
       "    <tr>\n",
       "      <td>0</td>\n",
       "      <td>None</td>\n",
       "      <td>118</td>\n",
       "      <td>68be06ca386d4c31939f3a4f0e3dd783</td>\n",
       "      <td>20170212</td>\n",
       "      <td>NaN</td>\n",
       "    </tr>\n",
       "    <tr>\n",
       "      <td>1</td>\n",
       "      <td>F</td>\n",
       "      <td>55</td>\n",
       "      <td>0610b486422d4921ae7d2bf64640c50b</td>\n",
       "      <td>20170715</td>\n",
       "      <td>112000.0</td>\n",
       "    </tr>\n",
       "    <tr>\n",
       "      <td>2</td>\n",
       "      <td>None</td>\n",
       "      <td>118</td>\n",
       "      <td>38fe809add3b4fcf9315a9694bb96ff5</td>\n",
       "      <td>20180712</td>\n",
       "      <td>NaN</td>\n",
       "    </tr>\n",
       "    <tr>\n",
       "      <td>3</td>\n",
       "      <td>F</td>\n",
       "      <td>75</td>\n",
       "      <td>78afa995795e4d85b5d9ceeca43f5fef</td>\n",
       "      <td>20170509</td>\n",
       "      <td>100000.0</td>\n",
       "    </tr>\n",
       "    <tr>\n",
       "      <td>4</td>\n",
       "      <td>None</td>\n",
       "      <td>118</td>\n",
       "      <td>a03223e636434f42ac4c3df47e8bac43</td>\n",
       "      <td>20170804</td>\n",
       "      <td>NaN</td>\n",
       "    </tr>\n",
       "  </tbody>\n",
       "</table>\n",
       "</div>"
      ],
      "text/plain": [
       "  gender  age                                id  became_member_on    income\n",
       "0   None  118  68be06ca386d4c31939f3a4f0e3dd783          20170212       NaN\n",
       "1      F   55  0610b486422d4921ae7d2bf64640c50b          20170715  112000.0\n",
       "2   None  118  38fe809add3b4fcf9315a9694bb96ff5          20180712       NaN\n",
       "3      F   75  78afa995795e4d85b5d9ceeca43f5fef          20170509  100000.0\n",
       "4   None  118  a03223e636434f42ac4c3df47e8bac43          20170804       NaN"
      ]
     },
     "execution_count": 26,
     "metadata": {},
     "output_type": "execute_result"
    }
   ],
   "source": [
    "profile.head()"
   ]
  },
  {
   "cell_type": "markdown",
   "metadata": {},
   "source": [
    "#### Determine if any customer profile attributes contain missing values"
   ]
  },
  {
   "cell_type": "code",
   "execution_count": 27,
   "metadata": {},
   "outputs": [
    {
     "data": {
      "text/plain": [
       "gender              12.794118\n",
       "age                  0.000000\n",
       "id                   0.000000\n",
       "became_member_on     0.000000\n",
       "income              12.794118\n",
       "dtype: float64"
      ]
     },
     "execution_count": 27,
     "metadata": {},
     "output_type": "execute_result"
    }
   ],
   "source": [
    "profile.isnull().sum(axis=0) * 100 / profile.shape[0]"
   ]
  },
  {
   "cell_type": "markdown",
   "metadata": {},
   "source": [
    "#### Compute customer gender attribute distribution"
   ]
  },
  {
   "cell_type": "code",
   "execution_count": 28,
   "metadata": {
    "scrolled": true
   },
   "outputs": [
    {
     "data": {
      "text/plain": [
       "M    57.227656\n",
       "F    41.342327\n",
       "O     1.430017\n",
       "Name: gender, dtype: float64"
      ]
     },
     "execution_count": 28,
     "metadata": {},
     "output_type": "execute_result"
    }
   ],
   "source": [
    "gender_counts = profile['gender'].value_counts()\n",
    "gender_counts *= 100 / gender_counts.sum()\n",
    "gender_counts"
   ]
  },
  {
   "cell_type": "markdown",
   "metadata": {},
   "source": [
    "#### Compute summary customer profile attribute statistics when customer income is not specified"
   ]
  },
  {
   "cell_type": "code",
   "execution_count": 29,
   "metadata": {},
   "outputs": [
    {
     "data": {
      "text/html": [
       "<div>\n",
       "<style scoped>\n",
       "    .dataframe tbody tr th:only-of-type {\n",
       "        vertical-align: middle;\n",
       "    }\n",
       "\n",
       "    .dataframe tbody tr th {\n",
       "        vertical-align: top;\n",
       "    }\n",
       "\n",
       "    .dataframe thead th {\n",
       "        text-align: right;\n",
       "    }\n",
       "</style>\n",
       "<table border=\"1\" class=\"dataframe\">\n",
       "  <thead>\n",
       "    <tr style=\"text-align: right;\">\n",
       "      <th></th>\n",
       "      <th>age</th>\n",
       "      <th>became_member_on</th>\n",
       "      <th>income</th>\n",
       "    </tr>\n",
       "  </thead>\n",
       "  <tbody>\n",
       "    <tr>\n",
       "      <td>count</td>\n",
       "      <td>2175.0</td>\n",
       "      <td>2.175000e+03</td>\n",
       "      <td>0.0</td>\n",
       "    </tr>\n",
       "    <tr>\n",
       "      <td>mean</td>\n",
       "      <td>118.0</td>\n",
       "      <td>2.016804e+07</td>\n",
       "      <td>NaN</td>\n",
       "    </tr>\n",
       "    <tr>\n",
       "      <td>std</td>\n",
       "      <td>0.0</td>\n",
       "      <td>1.009105e+04</td>\n",
       "      <td>NaN</td>\n",
       "    </tr>\n",
       "    <tr>\n",
       "      <td>min</td>\n",
       "      <td>118.0</td>\n",
       "      <td>2.013080e+07</td>\n",
       "      <td>NaN</td>\n",
       "    </tr>\n",
       "    <tr>\n",
       "      <td>25%</td>\n",
       "      <td>118.0</td>\n",
       "      <td>2.016070e+07</td>\n",
       "      <td>NaN</td>\n",
       "    </tr>\n",
       "    <tr>\n",
       "      <td>50%</td>\n",
       "      <td>118.0</td>\n",
       "      <td>2.017073e+07</td>\n",
       "      <td>NaN</td>\n",
       "    </tr>\n",
       "    <tr>\n",
       "      <td>75%</td>\n",
       "      <td>118.0</td>\n",
       "      <td>2.017123e+07</td>\n",
       "      <td>NaN</td>\n",
       "    </tr>\n",
       "    <tr>\n",
       "      <td>max</td>\n",
       "      <td>118.0</td>\n",
       "      <td>2.018073e+07</td>\n",
       "      <td>NaN</td>\n",
       "    </tr>\n",
       "  </tbody>\n",
       "</table>\n",
       "</div>"
      ],
      "text/plain": [
       "          age  became_member_on  income\n",
       "count  2175.0      2.175000e+03     0.0\n",
       "mean    118.0      2.016804e+07     NaN\n",
       "std       0.0      1.009105e+04     NaN\n",
       "min     118.0      2.013080e+07     NaN\n",
       "25%     118.0      2.016070e+07     NaN\n",
       "50%     118.0      2.017073e+07     NaN\n",
       "75%     118.0      2.017123e+07     NaN\n",
       "max     118.0      2.018073e+07     NaN"
      ]
     },
     "execution_count": 29,
     "metadata": {},
     "output_type": "execute_result"
    }
   ],
   "source": [
    "profile[profile['income'].isnull()].describe()"
   ]
  },
  {
   "cell_type": "markdown",
   "metadata": {},
   "source": [
    "#### Compute summary customer profile attribute statistics when customer income is specified"
   ]
  },
  {
   "cell_type": "code",
   "execution_count": 30,
   "metadata": {},
   "outputs": [
    {
     "data": {
      "text/html": [
       "<div>\n",
       "<style scoped>\n",
       "    .dataframe tbody tr th:only-of-type {\n",
       "        vertical-align: middle;\n",
       "    }\n",
       "\n",
       "    .dataframe tbody tr th {\n",
       "        vertical-align: top;\n",
       "    }\n",
       "\n",
       "    .dataframe thead th {\n",
       "        text-align: right;\n",
       "    }\n",
       "</style>\n",
       "<table border=\"1\" class=\"dataframe\">\n",
       "  <thead>\n",
       "    <tr style=\"text-align: right;\">\n",
       "      <th></th>\n",
       "      <th>age</th>\n",
       "      <th>became_member_on</th>\n",
       "      <th>income</th>\n",
       "    </tr>\n",
       "  </thead>\n",
       "  <tbody>\n",
       "    <tr>\n",
       "      <td>count</td>\n",
       "      <td>14825.000000</td>\n",
       "      <td>1.482500e+04</td>\n",
       "      <td>14825.000000</td>\n",
       "    </tr>\n",
       "    <tr>\n",
       "      <td>mean</td>\n",
       "      <td>54.393524</td>\n",
       "      <td>2.016689e+07</td>\n",
       "      <td>65404.991568</td>\n",
       "    </tr>\n",
       "    <tr>\n",
       "      <td>std</td>\n",
       "      <td>17.383705</td>\n",
       "      <td>1.188565e+04</td>\n",
       "      <td>21598.299410</td>\n",
       "    </tr>\n",
       "    <tr>\n",
       "      <td>min</td>\n",
       "      <td>18.000000</td>\n",
       "      <td>2.013073e+07</td>\n",
       "      <td>30000.000000</td>\n",
       "    </tr>\n",
       "    <tr>\n",
       "      <td>25%</td>\n",
       "      <td>42.000000</td>\n",
       "      <td>2.016052e+07</td>\n",
       "      <td>49000.000000</td>\n",
       "    </tr>\n",
       "    <tr>\n",
       "      <td>50%</td>\n",
       "      <td>55.000000</td>\n",
       "      <td>2.017080e+07</td>\n",
       "      <td>64000.000000</td>\n",
       "    </tr>\n",
       "    <tr>\n",
       "      <td>75%</td>\n",
       "      <td>66.000000</td>\n",
       "      <td>2.017123e+07</td>\n",
       "      <td>80000.000000</td>\n",
       "    </tr>\n",
       "    <tr>\n",
       "      <td>max</td>\n",
       "      <td>101.000000</td>\n",
       "      <td>2.018073e+07</td>\n",
       "      <td>120000.000000</td>\n",
       "    </tr>\n",
       "  </tbody>\n",
       "</table>\n",
       "</div>"
      ],
      "text/plain": [
       "                age  became_member_on         income\n",
       "count  14825.000000      1.482500e+04   14825.000000\n",
       "mean      54.393524      2.016689e+07   65404.991568\n",
       "std       17.383705      1.188565e+04   21598.299410\n",
       "min       18.000000      2.013073e+07   30000.000000\n",
       "25%       42.000000      2.016052e+07   49000.000000\n",
       "50%       55.000000      2.017080e+07   64000.000000\n",
       "75%       66.000000      2.017123e+07   80000.000000\n",
       "max      101.000000      2.018073e+07  120000.000000"
      ]
     },
     "execution_count": 30,
     "metadata": {},
     "output_type": "execute_result"
    }
   ],
   "source": [
    "profile[profile['income'].notnull()].describe()"
   ]
  },
  {
   "cell_type": "markdown",
   "metadata": {},
   "source": [
    "#### Evaluate what year a customer became a rewards member"
   ]
  },
  {
   "cell_type": "code",
   "execution_count": 35,
   "metadata": {},
   "outputs": [],
   "source": [
    "def convert_to_datetime(elem):\n",
    "    \"\"\"Converts a string to a datetime object\n",
    "    \n",
    "    INPUT:\n",
    "        elem: String that stores a date in the %Y%m%d format\n",
    "\n",
    "    OUTPUT:\n",
    "        datetimeobj: Datetime object\"\"\"\n",
    "    return datetime.strptime(str(elem), '%Y%m%d')"
   ]
  },
  {
   "cell_type": "code",
   "execution_count": 36,
   "metadata": {},
   "outputs": [
    {
     "data": {
      "text/plain": [
       "2017    38.052941\n",
       "2018    24.694118\n",
       "2016    20.741176\n",
       "2015    10.764706\n",
       "2014     4.064706\n",
       "2013     1.682353\n",
       "Name: became_member_on, dtype: float64"
      ]
     },
     "execution_count": 36,
     "metadata": {},
     "output_type": "execute_result"
    }
   ],
   "source": [
    "became_member_on = profile['became_member_on'].apply(convert_to_datetime)\n",
    "\n",
    "start_year = became_member_on.apply(lambda elem: elem.year).value_counts()\n",
    "start_year *= 100 / start_year.sum()\n",
    "start_year"
   ]
  },
  {
   "cell_type": "markdown",
   "metadata": {},
   "source": [
    "#### Evaluate which month a customer became a rewards member"
   ]
  },
  {
   "cell_type": "code",
   "execution_count": 37,
   "metadata": {},
   "outputs": [
    {
     "data": {
      "text/plain": [
       "8     9.470588\n",
       "10    9.223529\n",
       "12    9.152941\n",
       "1     8.970588\n",
       "9     8.911765\n",
       "11    8.523529\n",
       "7     7.994118\n",
       "3     7.817647\n",
       "4     7.735294\n",
       "5     7.688235\n",
       "6     7.441176\n",
       "2     7.070588\n",
       "Name: became_member_on, dtype: float64"
      ]
     },
     "execution_count": 37,
     "metadata": {},
     "output_type": "execute_result"
    }
   ],
   "source": [
    "start_month = became_member_on.apply(lambda elem: elem.month).value_counts()\n",
    "start_month *= 100 / start_month.sum()\n",
    "start_month"
   ]
  },
  {
   "cell_type": "markdown",
   "metadata": {},
   "source": [
    "### Clean the customer profile data  \n",
    "1. Remove customers with missing income data  \n",
    "2. Remove customer profiles where the gender attribute is missing\n",
    "3. Change the name of the 'id' column to 'customerid'  \n",
    "4. Transform the 'became_member_on' column to a datetime object  \n",
    "5. [One hot encode](https://www.kaggle.com/dansbecker/using-categorical-data-with-one-hot-encoding) a customer's membership start year  \n",
    "6. One hot encode a customer's age range  \n",
    "7. Transform a customer's gender from a character to a number  "
   ]
  },
  {
   "cell_type": "code",
   "execution_count": 40,
   "metadata": {},
   "outputs": [],
   "source": [
    "def clean_profile(data_dir = \"./data\"):\n",
    "    \"\"\" Transforms a DataFrame that contains demographic data for each \n",
    "    customer\n",
    "    \n",
    "    INPUT:\n",
    "        (Optional) data_dir: String that stores the full path to the\n",
    "                             data directory\n",
    "    \n",
    "    OUTPUT:\n",
    "        profile: DataFrame that contains demographic data for each \n",
    "                 customer\n",
    "    \"\"\"\n",
    "    profile = pd.read_json('data/profile.json',\n",
    "                           orient='records',\n",
    "                           lines=True)\n",
    "\n",
    "    # Remove customers with N/A income data\n",
    "    profile = profile[profile['income'].notnull()]\n",
    "\n",
    "    # Remove customers with unspecified gender\n",
    "    profile = profile[profile['gender'] != 'O']\n",
    "    profile = profile.reset_index(drop=True)\n",
    "\n",
    "    # Change the name of the 'id' column to 'customerid'\n",
    "    profile.columns = update_column_name(profile,\n",
    "                                         'id',\n",
    "                                         'customerid')\n",
    "\n",
    "    # Initialize a list that describes the desired DataFrame column\n",
    "    # ordering\n",
    "    column_ordering = ['customerid',\n",
    "                       'gender',\n",
    "                       'income']\n",
    "\n",
    "    # Transform the 'became_member_on' column to a datetime object\n",
    "    profile['became_member_on'] =\\\n",
    "        profile['became_member_on'].apply(convert_to_datetime)\n",
    "\n",
    "    # One hot encode a customer's membership start year\n",
    "    profile['membershipstartyear'] =\\\n",
    "        profile['became_member_on'].apply(lambda elem: elem.year)\n",
    "\n",
    "    membershipstartyear_df = pd.get_dummies(profile['membershipstartyear'])\n",
    "    column_ordering.extend(membershipstartyear_df.columns.values)\n",
    "\n",
    "    # One hot encode a customer's age range\n",
    "    min_age_limit = np.int(np.floor(np.min(profile['age'])/10)*10)\n",
    "    max_age_limit = np.int(np.ceil(np.max(profile['age'])/10)*10)\n",
    "\n",
    "    profile['agerange'] =\\\n",
    "        pd.cut(profile['age'],\n",
    "               (range(min_age_limit,max_age_limit + 10, 10)),\n",
    "               right=False)\n",
    "\n",
    "    profile['agerange'] = profile['agerange'].astype('str')\n",
    "\n",
    "    agerange_df = pd.get_dummies(profile['agerange'])\n",
    "    column_ordering.extend(agerange_df.columns.values)\n",
    "\n",
    "    # Transform a customer's gender from a character to a number\n",
    "    binarizerobj = LabelBinarizer()\n",
    "    profile['gender'] = binarizerobj.fit_transform(profile['gender'])\n",
    "\n",
    "    gender_integer_map = {}\n",
    "    for elem in binarizerobj.classes_:\n",
    "        gender_integer_map[elem] = binarizerobj.transform([elem])[0,0]\n",
    "\n",
    "    # Appened one hot encoded age range and membership start year variables\n",
    "    profile = pd.concat([profile,\n",
    "                         agerange_df,\n",
    "                         membershipstartyear_df], axis=1)\n",
    "\n",
    "    # Drop depcreated columns\n",
    "    profile = profile.drop(columns=['age',\n",
    "                                    'agerange',\n",
    "                                    'became_member_on',\n",
    "                                    'membershipstartyear'])\n",
    "\n",
    "    # Return a DataFrame with \"clean\" customer profile data\n",
    "    return profile[column_ordering], gender_integer_map"
   ]
  },
  {
   "cell_type": "code",
   "execution_count": 41,
   "metadata": {},
   "outputs": [
    {
     "name": "stdout",
     "output_type": "stream",
     "text": [
      "Number of user profiles: 14613\n"
     ]
    }
   ],
   "source": [
    "(profile,\n",
    " gender_integer_map) = clean_profile()\n",
    "\n",
    "print(\"Number of user profiles: %d\" % (profile.shape[0]))"
   ]
  },
  {
   "cell_type": "markdown",
   "metadata": {},
   "source": [
    "#### Print the first five rows of the preprocessed (i.e. clean) customer profile data\n"
   ]
  },
  {
   "cell_type": "code",
   "execution_count": 42,
   "metadata": {},
   "outputs": [
    {
     "data": {
      "text/html": [
       "<div>\n",
       "<style scoped>\n",
       "    .dataframe tbody tr th:only-of-type {\n",
       "        vertical-align: middle;\n",
       "    }\n",
       "\n",
       "    .dataframe tbody tr th {\n",
       "        vertical-align: top;\n",
       "    }\n",
       "\n",
       "    .dataframe thead th {\n",
       "        text-align: right;\n",
       "    }\n",
       "</style>\n",
       "<table border=\"1\" class=\"dataframe\">\n",
       "  <thead>\n",
       "    <tr style=\"text-align: right;\">\n",
       "      <th></th>\n",
       "      <th>customerid</th>\n",
       "      <th>gender</th>\n",
       "      <th>income</th>\n",
       "      <th>2013</th>\n",
       "      <th>2014</th>\n",
       "      <th>2015</th>\n",
       "      <th>2016</th>\n",
       "      <th>2017</th>\n",
       "      <th>2018</th>\n",
       "      <th>[10, 20)</th>\n",
       "      <th>[100, 110)</th>\n",
       "      <th>[20, 30)</th>\n",
       "      <th>[30, 40)</th>\n",
       "      <th>[40, 50)</th>\n",
       "      <th>[50, 60)</th>\n",
       "      <th>[60, 70)</th>\n",
       "      <th>[70, 80)</th>\n",
       "      <th>[80, 90)</th>\n",
       "      <th>[90, 100)</th>\n",
       "    </tr>\n",
       "  </thead>\n",
       "  <tbody>\n",
       "    <tr>\n",
       "      <td>0</td>\n",
       "      <td>0610b486422d4921ae7d2bf64640c50b</td>\n",
       "      <td>0</td>\n",
       "      <td>112000.0</td>\n",
       "      <td>0</td>\n",
       "      <td>0</td>\n",
       "      <td>0</td>\n",
       "      <td>0</td>\n",
       "      <td>1</td>\n",
       "      <td>0</td>\n",
       "      <td>0</td>\n",
       "      <td>0</td>\n",
       "      <td>0</td>\n",
       "      <td>0</td>\n",
       "      <td>0</td>\n",
       "      <td>1</td>\n",
       "      <td>0</td>\n",
       "      <td>0</td>\n",
       "      <td>0</td>\n",
       "      <td>0</td>\n",
       "    </tr>\n",
       "    <tr>\n",
       "      <td>1</td>\n",
       "      <td>78afa995795e4d85b5d9ceeca43f5fef</td>\n",
       "      <td>0</td>\n",
       "      <td>100000.0</td>\n",
       "      <td>0</td>\n",
       "      <td>0</td>\n",
       "      <td>0</td>\n",
       "      <td>0</td>\n",
       "      <td>1</td>\n",
       "      <td>0</td>\n",
       "      <td>0</td>\n",
       "      <td>0</td>\n",
       "      <td>0</td>\n",
       "      <td>0</td>\n",
       "      <td>0</td>\n",
       "      <td>0</td>\n",
       "      <td>0</td>\n",
       "      <td>1</td>\n",
       "      <td>0</td>\n",
       "      <td>0</td>\n",
       "    </tr>\n",
       "    <tr>\n",
       "      <td>2</td>\n",
       "      <td>e2127556f4f64592b11af22de27a7932</td>\n",
       "      <td>1</td>\n",
       "      <td>70000.0</td>\n",
       "      <td>0</td>\n",
       "      <td>0</td>\n",
       "      <td>0</td>\n",
       "      <td>0</td>\n",
       "      <td>0</td>\n",
       "      <td>1</td>\n",
       "      <td>0</td>\n",
       "      <td>0</td>\n",
       "      <td>0</td>\n",
       "      <td>0</td>\n",
       "      <td>0</td>\n",
       "      <td>0</td>\n",
       "      <td>1</td>\n",
       "      <td>0</td>\n",
       "      <td>0</td>\n",
       "      <td>0</td>\n",
       "    </tr>\n",
       "    <tr>\n",
       "      <td>3</td>\n",
       "      <td>389bc3fa690240e798340f5a15918d5c</td>\n",
       "      <td>1</td>\n",
       "      <td>53000.0</td>\n",
       "      <td>0</td>\n",
       "      <td>0</td>\n",
       "      <td>0</td>\n",
       "      <td>0</td>\n",
       "      <td>0</td>\n",
       "      <td>1</td>\n",
       "      <td>0</td>\n",
       "      <td>0</td>\n",
       "      <td>0</td>\n",
       "      <td>0</td>\n",
       "      <td>0</td>\n",
       "      <td>0</td>\n",
       "      <td>1</td>\n",
       "      <td>0</td>\n",
       "      <td>0</td>\n",
       "      <td>0</td>\n",
       "    </tr>\n",
       "    <tr>\n",
       "      <td>4</td>\n",
       "      <td>2eeac8d8feae4a8cad5a6af0499a211d</td>\n",
       "      <td>1</td>\n",
       "      <td>51000.0</td>\n",
       "      <td>0</td>\n",
       "      <td>0</td>\n",
       "      <td>0</td>\n",
       "      <td>0</td>\n",
       "      <td>1</td>\n",
       "      <td>0</td>\n",
       "      <td>0</td>\n",
       "      <td>0</td>\n",
       "      <td>0</td>\n",
       "      <td>0</td>\n",
       "      <td>0</td>\n",
       "      <td>1</td>\n",
       "      <td>0</td>\n",
       "      <td>0</td>\n",
       "      <td>0</td>\n",
       "      <td>0</td>\n",
       "    </tr>\n",
       "  </tbody>\n",
       "</table>\n",
       "</div>"
      ],
      "text/plain": [
       "                         customerid  gender    income  2013  2014  2015  2016  \\\n",
       "0  0610b486422d4921ae7d2bf64640c50b       0  112000.0     0     0     0     0   \n",
       "1  78afa995795e4d85b5d9ceeca43f5fef       0  100000.0     0     0     0     0   \n",
       "2  e2127556f4f64592b11af22de27a7932       1   70000.0     0     0     0     0   \n",
       "3  389bc3fa690240e798340f5a15918d5c       1   53000.0     0     0     0     0   \n",
       "4  2eeac8d8feae4a8cad5a6af0499a211d       1   51000.0     0     0     0     0   \n",
       "\n",
       "   2017  2018  [10, 20)  [100, 110)  [20, 30)  [30, 40)  [40, 50)  [50, 60)  \\\n",
       "0     1     0         0           0         0         0         0         1   \n",
       "1     1     0         0           0         0         0         0         0   \n",
       "2     0     1         0           0         0         0         0         0   \n",
       "3     0     1         0           0         0         0         0         0   \n",
       "4     1     0         0           0         0         0         0         1   \n",
       "\n",
       "   [60, 70)  [70, 80)  [80, 90)  [90, 100)  \n",
       "0         0         0         0          0  \n",
       "1         0         1         0          0  \n",
       "2         1         0         0          0  \n",
       "3         1         0         0          0  \n",
       "4         0         0         0          0  "
      ]
     },
     "execution_count": 42,
     "metadata": {},
     "output_type": "execute_result"
    }
   ],
   "source": [
    "profile.head()"
   ]
  },
  {
   "cell_type": "markdown",
   "metadata": {},
   "source": [
    "#### Print the mapping of customer gender string to an integer value"
   ]
  },
  {
   "cell_type": "code",
   "execution_count": 43,
   "metadata": {},
   "outputs": [
    {
     "name": "stdout",
     "output_type": "stream",
     "text": [
      "{'F': 0, 'M': 1}\n"
     ]
    }
   ],
   "source": [
    "print(gender_integer_map)"
   ]
  },
  {
   "cell_type": "markdown",
   "metadata": {},
   "source": [
    "#### Plot Income Distribution as a Function of Gender  \n",
    "Results suggest that the minimum and maximum income for both male and female customers is approximately the same. However, male customer income is slightly biased towards lower values compared to female customer income."
   ]
  },
  {
   "cell_type": "code",
   "execution_count": 68,
   "metadata": {},
   "outputs": [
    {
     "data": {
      "image/png": "[encoded data removed]",
      "text/plain": [
       "<Figure size 720x288 with 2 Axes>"
      ]
     },
     "metadata": {},
     "output_type": "display_data"
    }
   ],
   "source": [
    "male_customers = profile[profile['gender'] == 1]\n",
    "female_customers = profile[profile['gender'] == 0]\n",
    "\n",
    "current_palette = sns.color_palette()\n",
    "\n",
    "sns.set(font_scale=1.5)\n",
    "sns.set_style('white')\n",
    "\n",
    "fig, ax = plt.subplots(figsize=(10, 4),\n",
    "                       nrows=1,\n",
    "                       ncols=2,\n",
    "                       sharex=True,\n",
    "                       sharey=True)\n",
    "\n",
    "plt.sca(ax[0])\n",
    "sns.distplot(male_customers['income'] / 1000,\n",
    "             color=current_palette[1])\n",
    "plt.xlabel('Income in K')\n",
    "plt.ylabel('Percentage')\n",
    "plt.title('Male Customer Income')\n",
    "\n",
    "plt.sca(ax[1])\n",
    "sns.distplot(female_customers['income'] / 1000,\n",
    "             color=current_palette[0])\n",
    "plt.xlabel('Income in K')\n",
    "plt.ylabel('Percentage')\n",
    "plt.title('Female Customer Income')\n",
    "plt.tight_layout()"
   ]
  },
  {
   "cell_type": "markdown",
   "metadata": {},
   "source": [
    "#### Evaluate Membership Start Year Statistics\n",
    "The results suggest that most customers recently joined the Starbucks rewards program. These results also suggest that there are more male customers than female customers."
   ]
  },
  {
   "cell_type": "code",
   "execution_count": 69,
   "metadata": {},
   "outputs": [],
   "source": [
    "def reverse_ohe(dataframe_row,\n",
    "                is_ohe_column):\n",
    "    \"\"\" Reverses categorical one hot encoding\n",
    "\n",
    "    INPUT:\n",
    "        dataframe_row: Pandas Series that stores a DataFrame row\n",
    "\n",
    "        is_ohe_column: List that describes which DataFrame columns\n",
    "                       correspond to the one hot encoding of a \n",
    "                       categorical variable\n",
    "\n",
    "    OUTPUT:\n",
    "        categorical_variable: String that stores the value of a\n",
    "                              categorical variable\"\"\"\n",
    "    column_idx = np.argwhere(dataframe_row[is_ohe_column])\n",
    "\n",
    "    return str(dataframe_row.index.values[is_ohe_column][column_idx][0,0])"
   ]
  },
  {
   "cell_type": "code",
   "execution_count": 70,
   "metadata": {},
   "outputs": [],
   "source": [
    "def initialize_membership_date(profile,\n",
    "                               gender_integer_map):\n",
    "    \"\"\" Initializes a DataFrame that describes the membership start year\n",
    "        statistics as a function of customer gender\n",
    "\n",
    "        INPUT:\n",
    "            profile: DataFrame that stores customer profiles\n",
    "\n",
    "            gender_integer_map: Dictionary that describes the mapping of a\n",
    "                                gender string to an integer\n",
    "\n",
    "        OUTPUT:\n",
    "            membership_date: DataFrame that describes the membership start\n",
    "                             year statistics as a function of customer \n",
    "                             gender\"\"\"\n",
    "    is_ohe_column = [type(elem) == int for elem in profile.columns]\n",
    "\n",
    "    membership_date = profile[['gender']].copy()\n",
    "\n",
    "    membership_date['gender'] = genderint_to_string(membership_date,\n",
    "                                                    gender_integer_map)\n",
    "\n",
    "    membership_date['startyear'] =profile.apply(lambda elem: reverse_ohe(elem, is_ohe_column), axis=1)\n",
    "\n",
    "    membership_date = membership_date.groupby(['startyear', 'gender']).size()\n",
    "\n",
    "    membership_date = membership_date.reset_index()\n",
    "\n",
    "    membership_date.columns = ['startyear', 'gender', 'count']\n",
    "    \n",
    "    return membership_date"
   ]
  },
  {
   "cell_type": "code",
   "execution_count": 71,
   "metadata": {},
   "outputs": [],
   "source": [
    "def genderint_to_string(dataframe,\n",
    "                        gender_integer_map):\n",
    "    \"\"\"Transforms gender encoded as an integer to a string\n",
    "\n",
    "    INPUT:\n",
    "        dataframe: DataFrame that includes gender encoded as an integer\n",
    "\n",
    "        gender_integer_map: Dictionary that describes the mapping of a\n",
    "                            gender string to an integer\n",
    "\n",
    "    OUTPUT:\n",
    "        gender: Series that encodes gender as a string\"\"\"\n",
    "    gender = ['Male' if elem == 'M' else 'Female'\n",
    "              for elem in gender_integer_map.keys()]\n",
    "\n",
    "    integer_gender_map = dict(zip(gender_integer_map.values(), gender))\n",
    "\n",
    "    h_transfrom = lambda elem: integer_gender_map[elem]\n",
    "\n",
    "    return dataframe['gender'].apply(h_transfrom)\n"
   ]
  },
  {
   "cell_type": "code",
   "execution_count": 72,
   "metadata": {},
   "outputs": [
    {
     "name": "stderr",
     "output_type": "stream",
     "text": [
      "C:\\Users\\as10755\\AppData\\Local\\Continuum\\anaconda3\\lib\\site-packages\\numpy\\core\\fromnumeric.py:56: FutureWarning: Series.nonzero() is deprecated and will be removed in a future version.Use Series.to_numpy().nonzero() instead\n",
      "  return getattr(obj, method)(*args, **kwds)\n"
     ]
    },
    {
     "data": {
      "text/plain": [
       "Text(0, 0.5, 'Count')"
      ]
     },
     "execution_count": 72,
     "metadata": {},
     "output_type": "execute_result"
    },
    {
     "data": {
      "image/png": "[encoded data removed]",
      "text/plain": [
       "<Figure size 432x288 with 1 Axes>"
      ]
     },
     "metadata": {},
     "output_type": "display_data"
    }
   ],
   "source": [
    "membership_date = initialize_membership_date(profile,\n",
    "                                             gender_integer_map)\n",
    "\n",
    "sns.barplot(x='startyear', y='count', hue='gender', data=membership_date)\n",
    "plt.xlabel('Membership Start Year')\n",
    "plt.ylabel('Count')"
   ]
  },
  {
   "cell_type": "markdown",
   "metadata": {},
   "source": [
    "#### Compute customer gender distribution"
   ]
  },
  {
   "cell_type": "code",
   "execution_count": 73,
   "metadata": {},
   "outputs": [
    {
     "data": {
      "text/plain": [
       "gender\n",
       "Female    6129\n",
       "Male      8484\n",
       "Name: count, dtype: int64"
      ]
     },
     "execution_count": 73,
     "metadata": {},
     "output_type": "execute_result"
    }
   ],
   "source": [
    "membership_date.groupby('gender')['count'].sum()"
   ]
  },
  {
   "cell_type": "markdown",
   "metadata": {},
   "source": [
    "#### Evaluate Age Range Statistics  \n",
    "These results suggest that the average customer age is between 50 and 60 years old.  \n"
   ]
  },
  {
   "cell_type": "code",
   "execution_count": 74,
   "metadata": {},
   "outputs": [],
   "source": [
    "def init_agerange(profile,\n",
    "                  gender_integer_map):\n",
    "    \"\"\" Initializes a DataFrame that describes a customer's age range as \n",
    "    a function of gender\n",
    "    \n",
    "    INPUT:\n",
    "        profile: DataFrame that stores customer profiles\n",
    "\n",
    "        gender_integer_map: Dictionary that describes the mapping of a\n",
    "                            gender string to an integer\n",
    "\n",
    "    OUTPUT:\n",
    "        age_range: DataFrame that describes a customer's age range as a\n",
    "                   function of gender\n",
    "    \"\"\"\n",
    "    pattern_obj = re.compile('^\\[[0-9]+, [0-9]+\\)')\n",
    "\n",
    "    is_ohe_column =\\\n",
    "        [pattern_obj.match(str(elem)) != None for elem in profile.columns]\n",
    "\n",
    "    age_range = profile[['gender']].copy()\n",
    "    age_range['gender'] = genderint_to_string(age_range,\n",
    "                                            gender_integer_map)\n",
    "\n",
    "    age_range['agerange'] =\\\n",
    "        profile.apply(lambda elem: reverse_ohe(elem, is_ohe_column), axis=1)\n",
    "\n",
    "    age_range = age_range.groupby(['agerange', 'gender']).size()\n",
    "\n",
    "    age_range = age_range.reset_index()\n",
    "\n",
    "    age_range.columns = ['agerange', 'gender', 'count']\n",
    "\n",
    "    is_above_100 = re.compile('\\[10[0-9]+.*')\n",
    "    h_transform = lambda elem: is_above_100.match(elem) != None\n",
    "    above_100 = age_range['agerange'].apply(h_transform)\n",
    "\n",
    "    return pd.concat([age_range[above_100 == False], age_range[above_100]])\n"
   ]
  },
  {
   "cell_type": "code",
   "execution_count": 75,
   "metadata": {},
   "outputs": [
    {
     "name": "stderr",
     "output_type": "stream",
     "text": [
      "C:\\Users\\as10755\\AppData\\Local\\Continuum\\anaconda3\\lib\\site-packages\\numpy\\core\\fromnumeric.py:56: FutureWarning: Series.nonzero() is deprecated and will be removed in a future version.Use Series.to_numpy().nonzero() instead\n",
      "  return getattr(obj, method)(*args, **kwds)\n"
     ]
    },
    {
     "data": {
      "text/plain": [
       "(array([0, 1, 2, 3, 4, 5, 6, 7, 8, 9]), <a list of 10 Text xticklabel objects>)"
      ]
     },
     "execution_count": 75,
     "metadata": {},
     "output_type": "execute_result"
    },
    {
     "data": {
      "image/png": "[encoded data removed]",
      "text/plain": [
       "<Figure size 720x288 with 1 Axes>"
      ]
     },
     "metadata": {},
     "output_type": "display_data"
    }
   ],
   "source": [
    "age_range = init_agerange(profile,\n",
    "                          gender_integer_map)\n",
    "\n",
    "plt.figure(figsize=(10, 4))\n",
    "sns.barplot(x='agerange', y='count', hue='gender', data=age_range)\n",
    "plt.xlabel('Age Range')\n",
    "plt.ylabel('Count')\n",
    "plt.xticks(rotation=90)"
   ]
  },
  {
   "cell_type": "markdown",
   "metadata": {},
   "source": [
    "## Transaction data EDA\n",
    "- Customer transaction record attributes\n",
    "    * event (str) - Record description (i.e. transaction, offer received, offer viewed, etc.)\n",
    "    * person (str) - Customer id\n",
    "    * time (int) - Time in hours. The data begins at time t=0\n",
    "    * value - (dict of strings) - Either an offer id or transaction amount depending on the record\n",
    "- Customer transaction data EDA conclusions  \n",
    "    - Need to separate offer and customer purchase data  \n",
    "    - Results suggest ~ 45 % of the events are customers purchases and ~ 55% of the events describe customer offers  "
   ]
  },
  {
   "cell_type": "markdown",
   "metadata": {},
   "source": [
    "### Print the first five rows of the transaction data"
   ]
  },
  {
   "cell_type": "code",
   "execution_count": 76,
   "metadata": {},
   "outputs": [
    {
     "data": {
      "text/html": [
       "<div>\n",
       "<style scoped>\n",
       "    .dataframe tbody tr th:only-of-type {\n",
       "        vertical-align: middle;\n",
       "    }\n",
       "\n",
       "    .dataframe tbody tr th {\n",
       "        vertical-align: top;\n",
       "    }\n",
       "\n",
       "    .dataframe thead th {\n",
       "        text-align: right;\n",
       "    }\n",
       "</style>\n",
       "<table border=\"1\" class=\"dataframe\">\n",
       "  <thead>\n",
       "    <tr style=\"text-align: right;\">\n",
       "      <th></th>\n",
       "      <th>person</th>\n",
       "      <th>event</th>\n",
       "      <th>value</th>\n",
       "      <th>time</th>\n",
       "    </tr>\n",
       "  </thead>\n",
       "  <tbody>\n",
       "    <tr>\n",
       "      <td>0</td>\n",
       "      <td>78afa995795e4d85b5d9ceeca43f5fef</td>\n",
       "      <td>offer received</td>\n",
       "      <td>{'offer id': '9b98b8c7a33c4b65b9aebfe6a799e6d9'}</td>\n",
       "      <td>0</td>\n",
       "    </tr>\n",
       "    <tr>\n",
       "      <td>1</td>\n",
       "      <td>a03223e636434f42ac4c3df47e8bac43</td>\n",
       "      <td>offer received</td>\n",
       "      <td>{'offer id': '0b1e1539f2cc45b7b9fa7c272da2e1d7'}</td>\n",
       "      <td>0</td>\n",
       "    </tr>\n",
       "    <tr>\n",
       "      <td>2</td>\n",
       "      <td>e2127556f4f64592b11af22de27a7932</td>\n",
       "      <td>offer received</td>\n",
       "      <td>{'offer id': '2906b810c7d4411798c6938adc9daaa5'}</td>\n",
       "      <td>0</td>\n",
       "    </tr>\n",
       "    <tr>\n",
       "      <td>3</td>\n",
       "      <td>8ec6ce2a7e7949b1bf142def7d0e0586</td>\n",
       "      <td>offer received</td>\n",
       "      <td>{'offer id': 'fafdcd668e3743c1bb461111dcafc2a4'}</td>\n",
       "      <td>0</td>\n",
       "    </tr>\n",
       "    <tr>\n",
       "      <td>4</td>\n",
       "      <td>68617ca6246f4fbc85e91a2a49552598</td>\n",
       "      <td>offer received</td>\n",
       "      <td>{'offer id': '4d5c57ea9a6940dd891ad53e9dbe8da0'}</td>\n",
       "      <td>0</td>\n",
       "    </tr>\n",
       "  </tbody>\n",
       "</table>\n",
       "</div>"
      ],
      "text/plain": [
       "                             person           event  \\\n",
       "0  78afa995795e4d85b5d9ceeca43f5fef  offer received   \n",
       "1  a03223e636434f42ac4c3df47e8bac43  offer received   \n",
       "2  e2127556f4f64592b11af22de27a7932  offer received   \n",
       "3  8ec6ce2a7e7949b1bf142def7d0e0586  offer received   \n",
       "4  68617ca6246f4fbc85e91a2a49552598  offer received   \n",
       "\n",
       "                                              value  time  \n",
       "0  {'offer id': '9b98b8c7a33c4b65b9aebfe6a799e6d9'}     0  \n",
       "1  {'offer id': '0b1e1539f2cc45b7b9fa7c272da2e1d7'}     0  \n",
       "2  {'offer id': '2906b810c7d4411798c6938adc9daaa5'}     0  \n",
       "3  {'offer id': 'fafdcd668e3743c1bb461111dcafc2a4'}     0  \n",
       "4  {'offer id': '4d5c57ea9a6940dd891ad53e9dbe8da0'}     0  "
      ]
     },
     "execution_count": 76,
     "metadata": {},
     "output_type": "execute_result"
    }
   ],
   "source": [
    "transcript.head()"
   ]
  },
  {
   "cell_type": "markdown",
   "metadata": {},
   "source": [
    "#### Compute the event type distribution"
   ]
  },
  {
   "cell_type": "code",
   "execution_count": 77,
   "metadata": {},
   "outputs": [
    {
     "data": {
      "text/html": [
       "<div>\n",
       "<style scoped>\n",
       "    .dataframe tbody tr th:only-of-type {\n",
       "        vertical-align: middle;\n",
       "    }\n",
       "\n",
       "    .dataframe tbody tr th {\n",
       "        vertical-align: top;\n",
       "    }\n",
       "\n",
       "    .dataframe thead th {\n",
       "        text-align: right;\n",
       "    }\n",
       "</style>\n",
       "<table border=\"1\" class=\"dataframe\">\n",
       "  <thead>\n",
       "    <tr style=\"text-align: right;\">\n",
       "      <th></th>\n",
       "      <th>event</th>\n",
       "      <th>count</th>\n",
       "    </tr>\n",
       "  </thead>\n",
       "  <tbody>\n",
       "    <tr>\n",
       "      <td>0</td>\n",
       "      <td>transaction</td>\n",
       "      <td>138953</td>\n",
       "    </tr>\n",
       "    <tr>\n",
       "      <td>1</td>\n",
       "      <td>offer received</td>\n",
       "      <td>76277</td>\n",
       "    </tr>\n",
       "    <tr>\n",
       "      <td>2</td>\n",
       "      <td>offer viewed</td>\n",
       "      <td>57725</td>\n",
       "    </tr>\n",
       "    <tr>\n",
       "      <td>3</td>\n",
       "      <td>offer completed</td>\n",
       "      <td>33579</td>\n",
       "    </tr>\n",
       "  </tbody>\n",
       "</table>\n",
       "</div>"
      ],
      "text/plain": [
       "             event   count\n",
       "0      transaction  138953\n",
       "1   offer received   76277\n",
       "2     offer viewed   57725\n",
       "3  offer completed   33579"
      ]
     },
     "execution_count": 77,
     "metadata": {},
     "output_type": "execute_result"
    }
   ],
   "source": [
    "event_counts = transcript['event'].value_counts()\n",
    "event_counts = pd.DataFrame(list(zip(event_counts.index.values, event_counts)),\n",
    "                            columns=['event', 'count'])\n",
    "event_counts"
   ]
  },
  {
   "cell_type": "markdown",
   "metadata": {},
   "source": [
    "#### Compute the percentage of customer transaction and offer events"
   ]
  },
  {
   "cell_type": "code",
   "execution_count": 78,
   "metadata": {},
   "outputs": [
    {
     "name": "stdout",
     "output_type": "stream",
     "text": [
      "Percentage of customer transaction events: 45.3 %\n",
      "Percentage of customer offer events: 54.7 %\n"
     ]
    }
   ],
   "source": [
    "total_transactions = event_counts['count'].sum()\n",
    "\n",
    "percentage_transactions = 100 * event_counts.iloc[0]['count'] / total_transactions\n",
    "percentage_offers = 100 * event_counts.iloc[1:]['count'].sum() / total_transactions\n",
    "\n",
    "print(\"Percentage of customer transaction events: %.1f %%\" % (percentage_transactions))\n",
    "print(\"Percentage of customer offer events: %.1f %%\" % (percentage_offers))"
   ]
  },
  {
   "cell_type": "markdown",
   "metadata": {},
   "source": [
    "### Clean the transaction data  \n",
    "1. Change the name of the 'person' column to 'customerid'  \n",
    "2. Remove customer id's that are not in the customer profile DataFrame  \n",
    "3. Convert time variable units from hours to days  \n",
    "4. Change the name of the 'time' column to 'timedays'  \n",
    "5. Create a DataFrame that describes offers  \n",
    "    - Create an offerid column\n",
    "    - Parse the offer event type (i.e. 'received', 'viewed', or 'completed')\n",
    "    - One hot encode customer offer events \n",
    "6. Create a DataFrame that describes customer transaction events\n",
    "    - Parse customer transaction values  "
   ]
  },
  {
   "cell_type": "code",
   "execution_count": 85,
   "metadata": {},
   "outputs": [],
   "source": [
    "def clean_transcript(profile,\n",
    "                     data_dir = './data'):\n",
    "    \"\"\" Transforms a DataFrame that contains records for transactions, offers\n",
    "    received, offers viewed, and offers completed\n",
    "\n",
    "    INPUT:\n",
    "        profile: DataFrame that contains demographic data for each \n",
    "                 customer\n",
    "\n",
    "        (Optional) data_dir: String that stores the full path to the\n",
    "                             data directory\n",
    "\n",
    "    OUTPUT:\n",
    "        offer_data: DataFrame that describes customer offer data\n",
    "\n",
    "        transaction: DataFrame that describes customer transactions\n",
    "    \"\"\"\n",
    "    transcript = pd.read_json(os.path.join(data_dir,\n",
    "                                           'transcript.json'),\n",
    "                              orient='records',\n",
    "                              lines=True)\n",
    "\n",
    "    # Change the name of the 'person' column to 'customerid'\n",
    "    transcript.columns = update_column_name(transcript,\n",
    "                                            'person',\n",
    "                                            'customerid')\n",
    "\n",
    "    # Remove customer id's that are not in the customer profile DataFrame\n",
    "    select_data = transcript['customerid'].isin(profile['customerid'])\n",
    "    transcript = transcript[select_data]\n",
    "\n",
    "    percent_removed = 100 * (1 - select_data.sum() / select_data.shape[0])\n",
    "    print(\"Percentage of transactions removed: %.2f %%\" % percent_removed)\n",
    "\n",
    "    # Convert from hours to days\n",
    "    transcript['time'] /= 24.0\n",
    "    \n",
    "    # Change the name of the 'time' column to 'timedays'\n",
    "    transcript.columns = update_column_name(transcript,'time','timedays')\n",
    "\n",
    "    # Select customer offers\n",
    "    pattern_obj = re.compile('^offer (?:received|viewed|completed)')\n",
    "\n",
    "    h_is_offer = lambda elem: pattern_obj.match(elem) != None\n",
    "\n",
    "    is_offer = transcript['event'].apply(h_is_offer)\n",
    "\n",
    "    offer_data = transcript[is_offer].copy()\n",
    "    offer_data = offer_data.reset_index(drop=True)\n",
    "\n",
    "    # Initialize a list that describes the desired output DataFrame\n",
    "    # column ordering\n",
    "    column_order = ['offerid', 'customerid', 'timedays']\n",
    "\n",
    "    # Create an offerid column\n",
    "    offer_data['offerid'] = offer_data['value'].apply(lambda elem: list(elem.values())[0])\n",
    "\n",
    "    # Transform a column that describes a customer offer event\n",
    "    pattern_obj = re.compile('^offer ([a-z]+$)')\n",
    "\n",
    "    h_transform = lambda elem: pattern_obj.match(elem).groups(1)[0]\n",
    "\n",
    "    offer_data['event'] = offer_data['event'].apply(h_transform)\n",
    "\n",
    "    # One hot encode customer offer events\n",
    "    event_df = pd.get_dummies(offer_data['event'])\n",
    "    column_order.extend(event_df.columns.values)\n",
    "\n",
    "    # Create a DataFrame that describes customer offer events\n",
    "    offer_data = pd.concat([offer_data, event_df], axis=1)\n",
    "    offer_data.drop(columns=['event', 'value'])\n",
    "    offer_data = offer_data[column_order]\n",
    "\n",
    "    # Select customer transaction events\n",
    "    transaction = transcript[is_offer == False]\n",
    "    transaction = transaction.reset_index(drop=True)\n",
    "\n",
    "    # Transform customer transaction event values\n",
    "    transaction['amount'] = transaction['value'].apply(lambda elem: list(elem.values())[0])\n",
    "\n",
    "    # Create a DataFrame that describes customer transactions\n",
    "    transaction = transaction.drop(columns=['event', 'value'])\n",
    "    column_order = ['customerid', 'timedays', 'amount']\n",
    "    transaction = transaction[column_order]\n",
    "\n",
    "    return offer_data, transaction\n"
   ]
  },
  {
   "cell_type": "code",
   "execution_count": 86,
   "metadata": {},
   "outputs": [
    {
     "name": "stdout",
     "output_type": "stream",
     "text": [
      "Percentage of transactions removed: 12.31 %\n"
     ]
    }
   ],
   "source": [
    "offer_data, transaction = clean_transcript(profile)"
   ]
  },
  {
   "cell_type": "markdown",
   "metadata": {},
   "source": [
    "#### Print the first five rows of the transformed customer offer data"
   ]
  },
  {
   "cell_type": "code",
   "execution_count": 87,
   "metadata": {},
   "outputs": [
    {
     "data": {
      "text/html": [
       "<div>\n",
       "<style scoped>\n",
       "    .dataframe tbody tr th:only-of-type {\n",
       "        vertical-align: middle;\n",
       "    }\n",
       "\n",
       "    .dataframe tbody tr th {\n",
       "        vertical-align: top;\n",
       "    }\n",
       "\n",
       "    .dataframe thead th {\n",
       "        text-align: right;\n",
       "    }\n",
       "</style>\n",
       "<table border=\"1\" class=\"dataframe\">\n",
       "  <thead>\n",
       "    <tr style=\"text-align: right;\">\n",
       "      <th></th>\n",
       "      <th>offerid</th>\n",
       "      <th>customerid</th>\n",
       "      <th>timedays</th>\n",
       "      <th>completed</th>\n",
       "      <th>received</th>\n",
       "      <th>viewed</th>\n",
       "    </tr>\n",
       "  </thead>\n",
       "  <tbody>\n",
       "    <tr>\n",
       "      <td>0</td>\n",
       "      <td>9b98b8c7a33c4b65b9aebfe6a799e6d9</td>\n",
       "      <td>78afa995795e4d85b5d9ceeca43f5fef</td>\n",
       "      <td>0.0</td>\n",
       "      <td>0</td>\n",
       "      <td>1</td>\n",
       "      <td>0</td>\n",
       "    </tr>\n",
       "    <tr>\n",
       "      <td>1</td>\n",
       "      <td>2906b810c7d4411798c6938adc9daaa5</td>\n",
       "      <td>e2127556f4f64592b11af22de27a7932</td>\n",
       "      <td>0.0</td>\n",
       "      <td>0</td>\n",
       "      <td>1</td>\n",
       "      <td>0</td>\n",
       "    </tr>\n",
       "    <tr>\n",
       "      <td>2</td>\n",
       "      <td>f19421c1d4aa40978ebb69ca19b0e20d</td>\n",
       "      <td>389bc3fa690240e798340f5a15918d5c</td>\n",
       "      <td>0.0</td>\n",
       "      <td>0</td>\n",
       "      <td>1</td>\n",
       "      <td>0</td>\n",
       "    </tr>\n",
       "    <tr>\n",
       "      <td>3</td>\n",
       "      <td>3f207df678b143eea3cee63160fa8bed</td>\n",
       "      <td>2eeac8d8feae4a8cad5a6af0499a211d</td>\n",
       "      <td>0.0</td>\n",
       "      <td>0</td>\n",
       "      <td>1</td>\n",
       "      <td>0</td>\n",
       "    </tr>\n",
       "    <tr>\n",
       "      <td>4</td>\n",
       "      <td>0b1e1539f2cc45b7b9fa7c272da2e1d7</td>\n",
       "      <td>aa4862eba776480b8bb9c68455b8c2e1</td>\n",
       "      <td>0.0</td>\n",
       "      <td>0</td>\n",
       "      <td>1</td>\n",
       "      <td>0</td>\n",
       "    </tr>\n",
       "  </tbody>\n",
       "</table>\n",
       "</div>"
      ],
      "text/plain": [
       "                            offerid                        customerid  \\\n",
       "0  9b98b8c7a33c4b65b9aebfe6a799e6d9  78afa995795e4d85b5d9ceeca43f5fef   \n",
       "1  2906b810c7d4411798c6938adc9daaa5  e2127556f4f64592b11af22de27a7932   \n",
       "2  f19421c1d4aa40978ebb69ca19b0e20d  389bc3fa690240e798340f5a15918d5c   \n",
       "3  3f207df678b143eea3cee63160fa8bed  2eeac8d8feae4a8cad5a6af0499a211d   \n",
       "4  0b1e1539f2cc45b7b9fa7c272da2e1d7  aa4862eba776480b8bb9c68455b8c2e1   \n",
       "\n",
       "   timedays  completed  received  viewed  \n",
       "0       0.0          0         1       0  \n",
       "1       0.0          0         1       0  \n",
       "2       0.0          0         1       0  \n",
       "3       0.0          0         1       0  \n",
       "4       0.0          0         1       0  "
      ]
     },
     "execution_count": 87,
     "metadata": {},
     "output_type": "execute_result"
    }
   ],
   "source": [
    "offer_data.head()"
   ]
  },
  {
   "cell_type": "markdown",
   "metadata": {},
   "source": [
    "#### Print the first five rows of the transformed customer transaction data"
   ]
  },
  {
   "cell_type": "code",
   "execution_count": 88,
   "metadata": {},
   "outputs": [
    {
     "data": {
      "text/html": [
       "<div>\n",
       "<style scoped>\n",
       "    .dataframe tbody tr th:only-of-type {\n",
       "        vertical-align: middle;\n",
       "    }\n",
       "\n",
       "    .dataframe tbody tr th {\n",
       "        vertical-align: top;\n",
       "    }\n",
       "\n",
       "    .dataframe thead th {\n",
       "        text-align: right;\n",
       "    }\n",
       "</style>\n",
       "<table border=\"1\" class=\"dataframe\">\n",
       "  <thead>\n",
       "    <tr style=\"text-align: right;\">\n",
       "      <th></th>\n",
       "      <th>customerid</th>\n",
       "      <th>timedays</th>\n",
       "      <th>amount</th>\n",
       "    </tr>\n",
       "  </thead>\n",
       "  <tbody>\n",
       "    <tr>\n",
       "      <td>0</td>\n",
       "      <td>02c083884c7d45b39cc68e1314fec56c</td>\n",
       "      <td>0.0</td>\n",
       "      <td>0.83</td>\n",
       "    </tr>\n",
       "    <tr>\n",
       "      <td>1</td>\n",
       "      <td>9fa9ae8f57894cc9a3b8a9bbe0fc1b2f</td>\n",
       "      <td>0.0</td>\n",
       "      <td>34.56</td>\n",
       "    </tr>\n",
       "    <tr>\n",
       "      <td>2</td>\n",
       "      <td>54890f68699049c2a04d415abc25e717</td>\n",
       "      <td>0.0</td>\n",
       "      <td>13.23</td>\n",
       "    </tr>\n",
       "    <tr>\n",
       "      <td>3</td>\n",
       "      <td>b2f1cd155b864803ad8334cdf13c4bd2</td>\n",
       "      <td>0.0</td>\n",
       "      <td>19.51</td>\n",
       "    </tr>\n",
       "    <tr>\n",
       "      <td>4</td>\n",
       "      <td>fe97aa22dd3e48c8b143116a8403dd52</td>\n",
       "      <td>0.0</td>\n",
       "      <td>18.97</td>\n",
       "    </tr>\n",
       "  </tbody>\n",
       "</table>\n",
       "</div>"
      ],
      "text/plain": [
       "                         customerid  timedays  amount\n",
       "0  02c083884c7d45b39cc68e1314fec56c       0.0    0.83\n",
       "1  9fa9ae8f57894cc9a3b8a9bbe0fc1b2f       0.0   34.56\n",
       "2  54890f68699049c2a04d415abc25e717       0.0   13.23\n",
       "3  b2f1cd155b864803ad8334cdf13c4bd2       0.0   19.51\n",
       "4  fe97aa22dd3e48c8b143116a8403dd52       0.0   18.97"
      ]
     },
     "execution_count": 88,
     "metadata": {},
     "output_type": "execute_result"
    }
   ],
   "source": [
    "transaction.head()"
   ]
  },
  {
   "cell_type": "markdown",
   "metadata": {},
   "source": [
    "# Combining transaction, demographic and offer data \n",
    "For each customer, apply the following algorithm:\n",
    "1. Select a customer's profile  \n",
    "2. Select offer data for a specific customer\n",
    "3. Select transactions for a specific customer\n",
    "4. Initialize DataFrames that describe when a customer receives, views, and completes an offer\n",
    "5. Iterate over each offer a customer receives\n",
    "    - Initialize the current offer id  \n",
    "    - Look-up a description of the current offer  \n",
    "    - Initialize the time period when an offer is valid\n",
    "    - Initialize a Boolean array that select customer transactions that fall within the valid offer time window\n",
    "    - Initialize a Boolean array that selects a description of when a customer completes an offer (this array may not contain any True values)  \n",
    "    - Initialize a Boolean array that selects a description of when a customer views an offer (this array may not contain any True values)\n",
    "    - Determine whether the current offer was successful\n",
    "        - For an offer to be successful a customer has to view and complete it  \n",
    "    - Select customer transactions that occurred within the current offer valid time window  \n",
    "    - Initialize a dictionary that describes the current customer offer  \n",
    "    - Update a list of dictionaries that describes the effectiveness of offers to a specific customer\n",
    "   \n",
    "Once all customer transactions have been evaluated, convert the resulting list of dictionaries into a pandas DataFrame."
   ]
  },
  {
   "cell_type": "code",
   "execution_count": 95,
   "metadata": {},
   "outputs": [],
   "source": [
    "def create_offeranalysis_dataset(profile,\n",
    "                                 portfolio,\n",
    "                                 offer_data,\n",
    "                                 transaction):\n",
    "    \"\"\" Creates an analytic dataset from the following Starbucks challenge \n",
    "    datasets:\n",
    "\n",
    "    * portfolio.json - Contains offer ids and meta data (duration, type,\n",
    "                       etc.)\n",
    "\n",
    "    * profile.json - demographic data for each customer\n",
    "\n",
    "    * transcript.json - records for transactions, offers received, offers\n",
    "                        viewed, and offers completed\n",
    "                        \n",
    "    INPUT:\n",
    "        profile: DataFrame that contains demographic data for each \n",
    "                 customer\n",
    "\n",
    "        portfolio: Contains offer ids and meta data (duration, type, etc.)\n",
    "\n",
    "        offer_data: DataFrame that describes customer offer data\n",
    "\n",
    "        transaction: DataFrame that describes customer transactions\n",
    "\n",
    "    OUTPUT:\n",
    "        clean_data: DataFrame that characterizes the effectiveness of\n",
    "                    customer offers\"\"\"\n",
    "    clean_data = []\n",
    "    customerid_list = offer_data['customerid'].unique()\n",
    "\n",
    "    widgets=[' [',\n",
    "             progressbar.Timer(), '] ',\n",
    "             progressbar.Bar(),\n",
    "             ' (',\n",
    "             progressbar.ETA(),\n",
    "             ') ']\n",
    "\n",
    "    for idx in progressbar.progressbar(range(len(customerid_list)),\n",
    "                                       widgets=widgets):\n",
    "\n",
    "        clean_data.extend(create_combined_records(customerid_list[idx],\n",
    "                                                  portfolio,\n",
    "                                                  profile,\n",
    "                                                  offer_data,\n",
    "                                                  transaction))\n",
    "\n",
    "    clean_data = pd.DataFrame(clean_data)\n",
    "\n",
    "    # Initialize a list that describes the desired output DataFrame\n",
    "    # column ordering\n",
    "    column_ordering = ['time', 'offerid', 'customerid', 'totalamount',\n",
    "                       'offersuccessful', 'difficulty', 'durationdays',\n",
    "                       'reward', 'bogo', 'discount', 'informational',\n",
    "                       'email', 'mobile', 'social', 'web', 'gender',\n",
    "                       'income', 2013, 2014, 2015, 2016, 2017, 2018,\n",
    "                       '[10, 20)', '[20, 30)', '[30, 40)', '[40, 50)',\n",
    "                       '[50, 60)', '[60, 70)', '[70, 80)', '[80, 90)',\n",
    "                       '[90, 100)', '[100, 110)']\n",
    "\n",
    "    clean_data = clean_data[column_ordering]\n",
    "\n",
    "    clean_data = clean_data.sort_values('time')\n",
    "    return clean_data.reset_index(drop=True)\n"
   ]
  },
  {
   "cell_type": "code",
   "execution_count": 98,
   "metadata": {},
   "outputs": [],
   "source": [
    "def create_combined_records(customer_id,\n",
    "                            portfolio,\n",
    "                            profile,\n",
    "                            offer_data,\n",
    "                            transaction):\n",
    "    \"\"\" \n",
    "    Creates a list of dictionaries that describes the effectiveness of\n",
    "    offers to a specific customer\n",
    "\n",
    "    INPUT:\n",
    "        customer_id: String that refers to a specific customer\n",
    "\n",
    "        profile: DataFrame that contains demographic data for each \n",
    "                 customer\n",
    "                 \n",
    "        portfolio: DataFrame containing offer ids and meta data about \n",
    "                   each offer (duration, type, etc.)\n",
    "\n",
    "        offer_data: DataFrame that describes customer offer data\n",
    "\n",
    "        transaction: DataFrame that describes customer transactions\n",
    "    \n",
    "    OUTPUT:\n",
    "        rows: List of dictionaries that describes the effectiveness of\n",
    "              offers to a specific customer\n",
    "    \"\"\"\n",
    "    # Select a customer's profile\n",
    "    cur_customer = profile[profile['customerid'] == customer_id]\n",
    "\n",
    "    # Select offer data for a specific customer\n",
    "    select_offer_data = offer_data['customerid'] == customer_id\n",
    "    customer_offer_data = offer_data[select_offer_data]\n",
    "    customer_offer_data = customer_offer_data.drop(columns='customerid')\n",
    "    customer_offer_data = customer_offer_data.reset_index(drop=True)\n",
    "\n",
    "    # Select transactions for a specific customer\n",
    "    select_transaction = transaction['customerid'] == customer_id\n",
    "    customer_transaction_data = transaction[select_transaction]\n",
    "\n",
    "    customer_transaction_data =\\\n",
    "        customer_transaction_data.drop(columns='customerid')\n",
    "\n",
    "    customer_transaction_data =\\\n",
    "        customer_transaction_data.reset_index(drop=True)\n",
    "\n",
    "    # Initialize DataFrames that describe when a customer receives,\n",
    "    # views, and completes an offer\n",
    "    event_type = ['completed',\n",
    "                  'received',\n",
    "                  'viewed']\n",
    "\n",
    "    offer_received =\\\n",
    "        customer_offer_data[customer_offer_data['received'] == 1]\n",
    "\n",
    "    offer_received = offer_received.drop(columns=event_type)\n",
    "    offer_received = offer_received.reset_index(drop=True)\n",
    "\n",
    "    offer_viewed =\\\n",
    "        customer_offer_data[customer_offer_data['viewed'] == 1]\n",
    "\n",
    "    offer_viewed = offer_viewed.drop(columns=event_type)\n",
    "    offer_viewed = offer_viewed.reset_index(drop=True)\n",
    "\n",
    "    offer_completed =\\\n",
    "        customer_offer_data[customer_offer_data['completed'] == 1]\n",
    "\n",
    "    offer_completed = offer_completed.drop(columns=event_type)\n",
    "    offer_completed = offer_completed.reset_index(drop=True)\n",
    "\n",
    "    # Iterate over each offer a customer receives\n",
    "    rows = []\n",
    "    for idx in range(offer_received.shape[0]):\n",
    "\n",
    "        # Initialize the current offer id\n",
    "        cur_offer_id = offer_received.iloc[idx]['offerid']\n",
    "\n",
    "        # Look-up a description of the current offer\n",
    "        cur_offer = portfolio.loc[portfolio['offerid'] == cur_offer_id]\n",
    "        durationdays = cur_offer['durationdays'].values[0]\n",
    "\n",
    "        # Initialize the time period when an offer is valid\n",
    "        cur_offer_startime = offer_received.iloc[idx]['timedays']\n",
    "\n",
    "        cur_offer_endtime =\\\n",
    "            offer_received.iloc[idx]['timedays'] + durationdays\n",
    "\n",
    "        # Initialize a boolean array that select customer transcations that\n",
    "        # fall within the valid offer time window\n",
    "        select_transaction =\\\n",
    "            np.logical_and(customer_transaction_data['timedays'] >=\n",
    "                           cur_offer_startime,\n",
    "                           customer_transaction_data['timedays'] <=\n",
    "                           cur_offer_endtime)\n",
    "\n",
    "        # Initialize a boolean array that selects a description of when a\n",
    "        # customer completes an offer (this array may not contain any True\n",
    "        # values)\n",
    "        select_offer_completed =\\\n",
    "            np.logical_and(offer_completed['timedays'] >= cur_offer_startime,\n",
    "                           offer_completed['timedays'] <= cur_offer_endtime)\n",
    "\n",
    "        # Initialize a boolean array that selects a description of when a\n",
    "        # customer views an offer (this array may not contain any True\n",
    "        # values)\n",
    "        select_offer_viewed =\\\n",
    "            np.logical_and(offer_viewed['timedays'] >= cur_offer_startime,\n",
    "                           offer_viewed['timedays'] <= cur_offer_endtime)\n",
    "\n",
    "        # Determine whether the current offer was successful\n",
    "        cur_offer_successful =\\\n",
    "            select_offer_completed.sum() > 0 and select_offer_viewed.sum() > 0\n",
    "\n",
    "        # Select customer transcations that occurred within the current offer\n",
    "        # valid time window\n",
    "        cur_offer_transactions = customer_transaction_data[select_transaction]\n",
    "\n",
    "        # Initialize a dictionary that describes the current customer offer\n",
    "        cur_row = {'offerid': cur_offer_id,\n",
    "                   'customerid': customer_id,\n",
    "                   'time': cur_offer_startime,\n",
    "                   'offersuccessful': int(cur_offer_successful),\n",
    "                   'totalamount': cur_offer_transactions['amount'].sum()}\n",
    "\n",
    "        cur_row.update(cur_offer.iloc[0,1:].to_dict())\n",
    "\n",
    "        cur_row.update(cur_customer.iloc[0,1:].to_dict())\n",
    "\n",
    "        # Update a list of dictionaries that describes the effectiveness of \n",
    "        # offers to a specific customer\n",
    "        rows.append(cur_row)\n",
    "\n",
    "    return rows"
   ]
  },
  {
   "cell_type": "code",
   "execution_count": 99,
   "metadata": {},
   "outputs": [
    {
     "name": "stderr",
     "output_type": "stream",
     "text": [
      " [Elapsed Time: 0:10:51] |##################################| (Time:  0:10:51) \n"
     ]
    },
    {
     "data": {
      "text/html": [
       "<div>\n",
       "<style scoped>\n",
       "    .dataframe tbody tr th:only-of-type {\n",
       "        vertical-align: middle;\n",
       "    }\n",
       "\n",
       "    .dataframe tbody tr th {\n",
       "        vertical-align: top;\n",
       "    }\n",
       "\n",
       "    .dataframe thead th {\n",
       "        text-align: right;\n",
       "    }\n",
       "</style>\n",
       "<table border=\"1\" class=\"dataframe\">\n",
       "  <thead>\n",
       "    <tr style=\"text-align: right;\">\n",
       "      <th></th>\n",
       "      <th>offerid</th>\n",
       "      <th>totalamount</th>\n",
       "      <th>offersuccessful</th>\n",
       "      <th>difficulty</th>\n",
       "      <th>durationdays</th>\n",
       "      <th>reward</th>\n",
       "      <th>bogo</th>\n",
       "      <th>discount</th>\n",
       "      <th>mobile</th>\n",
       "      <th>social</th>\n",
       "      <th>...</th>\n",
       "      <th>[10, 20)</th>\n",
       "      <th>[20, 30)</th>\n",
       "      <th>[30, 40)</th>\n",
       "      <th>[40, 50)</th>\n",
       "      <th>[50, 60)</th>\n",
       "      <th>[60, 70)</th>\n",
       "      <th>[70, 80)</th>\n",
       "      <th>[80, 90)</th>\n",
       "      <th>[90, 100)</th>\n",
       "      <th>[100, 110)</th>\n",
       "    </tr>\n",
       "  </thead>\n",
       "  <tbody>\n",
       "    <tr>\n",
       "      <td>0</td>\n",
       "      <td>9b98b8c7a33c4b65b9aebfe6a799e6d9</td>\n",
       "      <td>37.67</td>\n",
       "      <td>1</td>\n",
       "      <td>5</td>\n",
       "      <td>7</td>\n",
       "      <td>5</td>\n",
       "      <td>1</td>\n",
       "      <td>0</td>\n",
       "      <td>1</td>\n",
       "      <td>0</td>\n",
       "      <td>...</td>\n",
       "      <td>0</td>\n",
       "      <td>0</td>\n",
       "      <td>0</td>\n",
       "      <td>0</td>\n",
       "      <td>0</td>\n",
       "      <td>0</td>\n",
       "      <td>1</td>\n",
       "      <td>0</td>\n",
       "      <td>0</td>\n",
       "      <td>0</td>\n",
       "    </tr>\n",
       "    <tr>\n",
       "      <td>1</td>\n",
       "      <td>4d5c57ea9a6940dd891ad53e9dbe8da0</td>\n",
       "      <td>48.31</td>\n",
       "      <td>1</td>\n",
       "      <td>10</td>\n",
       "      <td>5</td>\n",
       "      <td>10</td>\n",
       "      <td>1</td>\n",
       "      <td>0</td>\n",
       "      <td>1</td>\n",
       "      <td>1</td>\n",
       "      <td>...</td>\n",
       "      <td>0</td>\n",
       "      <td>0</td>\n",
       "      <td>0</td>\n",
       "      <td>0</td>\n",
       "      <td>1</td>\n",
       "      <td>0</td>\n",
       "      <td>0</td>\n",
       "      <td>0</td>\n",
       "      <td>0</td>\n",
       "      <td>0</td>\n",
       "    </tr>\n",
       "    <tr>\n",
       "      <td>2</td>\n",
       "      <td>5a8bc65990b245e5a138643cd4eb9837</td>\n",
       "      <td>23.43</td>\n",
       "      <td>0</td>\n",
       "      <td>0</td>\n",
       "      <td>3</td>\n",
       "      <td>0</td>\n",
       "      <td>0</td>\n",
       "      <td>0</td>\n",
       "      <td>1</td>\n",
       "      <td>1</td>\n",
       "      <td>...</td>\n",
       "      <td>0</td>\n",
       "      <td>0</td>\n",
       "      <td>0</td>\n",
       "      <td>1</td>\n",
       "      <td>0</td>\n",
       "      <td>0</td>\n",
       "      <td>0</td>\n",
       "      <td>0</td>\n",
       "      <td>0</td>\n",
       "      <td>0</td>\n",
       "    </tr>\n",
       "    <tr>\n",
       "      <td>3</td>\n",
       "      <td>9b98b8c7a33c4b65b9aebfe6a799e6d9</td>\n",
       "      <td>52.24</td>\n",
       "      <td>0</td>\n",
       "      <td>5</td>\n",
       "      <td>7</td>\n",
       "      <td>5</td>\n",
       "      <td>1</td>\n",
       "      <td>0</td>\n",
       "      <td>1</td>\n",
       "      <td>0</td>\n",
       "      <td>...</td>\n",
       "      <td>0</td>\n",
       "      <td>0</td>\n",
       "      <td>0</td>\n",
       "      <td>0</td>\n",
       "      <td>0</td>\n",
       "      <td>0</td>\n",
       "      <td>1</td>\n",
       "      <td>0</td>\n",
       "      <td>0</td>\n",
       "      <td>0</td>\n",
       "    </tr>\n",
       "    <tr>\n",
       "      <td>4</td>\n",
       "      <td>fafdcd668e3743c1bb461111dcafc2a4</td>\n",
       "      <td>5.12</td>\n",
       "      <td>0</td>\n",
       "      <td>10</td>\n",
       "      <td>10</td>\n",
       "      <td>2</td>\n",
       "      <td>0</td>\n",
       "      <td>1</td>\n",
       "      <td>1</td>\n",
       "      <td>1</td>\n",
       "      <td>...</td>\n",
       "      <td>0</td>\n",
       "      <td>0</td>\n",
       "      <td>1</td>\n",
       "      <td>0</td>\n",
       "      <td>0</td>\n",
       "      <td>0</td>\n",
       "      <td>0</td>\n",
       "      <td>0</td>\n",
       "      <td>0</td>\n",
       "      <td>0</td>\n",
       "    </tr>\n",
       "  </tbody>\n",
       "</table>\n",
       "<p>5 rows × 29 columns</p>\n",
       "</div>"
      ],
      "text/plain": [
       "                            offerid  totalamount  offersuccessful  difficulty  \\\n",
       "0  9b98b8c7a33c4b65b9aebfe6a799e6d9        37.67                1           5   \n",
       "1  4d5c57ea9a6940dd891ad53e9dbe8da0        48.31                1          10   \n",
       "2  5a8bc65990b245e5a138643cd4eb9837        23.43                0           0   \n",
       "3  9b98b8c7a33c4b65b9aebfe6a799e6d9        52.24                0           5   \n",
       "4  fafdcd668e3743c1bb461111dcafc2a4         5.12                0          10   \n",
       "\n",
       "   durationdays  reward  bogo  discount  mobile  social  ...  [10, 20)  \\\n",
       "0             7       5     1         0       1       0  ...         0   \n",
       "1             5      10     1         0       1       1  ...         0   \n",
       "2             3       0     0         0       1       1  ...         0   \n",
       "3             7       5     1         0       1       0  ...         0   \n",
       "4            10       2     0         1       1       1  ...         0   \n",
       "\n",
       "   [20, 30)  [30, 40)  [40, 50)  [50, 60)  [60, 70)  [70, 80)  [80, 90)  \\\n",
       "0         0         0         0         0         0         1         0   \n",
       "1         0         0         0         1         0         0         0   \n",
       "2         0         0         1         0         0         0         0   \n",
       "3         0         0         0         0         0         1         0   \n",
       "4         0         1         0         0         0         0         0   \n",
       "\n",
       "   [90, 100)  [100, 110)  \n",
       "0          0           0  \n",
       "1          0           0  \n",
       "2          0           0  \n",
       "3          0           0  \n",
       "4          0           0  \n",
       "\n",
       "[5 rows x 29 columns]"
      ]
     },
     "execution_count": 99,
     "metadata": {},
     "output_type": "execute_result"
    }
   ],
   "source": [
    "clean_data_csvfile = \"./data/clean_data.csv\"\n",
    "\n",
    "if os.path.exists(clean_data_csvfile):\n",
    "    clean_data = pd.read_csv(clean_data_csvfile)\n",
    "else:\n",
    "    clean_data = create_offeranalysis_dataset(profile,\n",
    "                                              portfolio,\n",
    "                                              offer_data,\n",
    "                                              transaction)\n",
    "\n",
    "    clean_data.to_csv(clean_data_csvfile, index=False)\n",
    "    \n",
    "clean_data = clean_data.drop(columns=['time',\n",
    "                                      'customerid',\n",
    "                                      'email',\n",
    "                                      'informational'])\n",
    "\n",
    "column_ordering = ['offerid', 'totalamount']\n",
    "column_ordering.extend([elem for elem in clean_data.columns if elem not in column_ordering])\n",
    "\n",
    "clean_data = clean_data[column_ordering]\n",
    "clean_data.head()"
   ]
  },
  {
   "cell_type": "code",
   "execution_count": 104,
   "metadata": {},
   "outputs": [
    {
     "data": {
      "text/plain": [
       "Index([        'offerid',     'totalamount', 'offersuccessful',\n",
       "            'difficulty',    'durationdays',          'reward',\n",
       "                  'bogo',        'discount',          'mobile',\n",
       "                'social',             'web',          'gender',\n",
       "                'income',              2013,              2014,\n",
       "                    2015,              2016,              2017,\n",
       "                    2018,        '[10, 20)',        '[20, 30)',\n",
       "              '[30, 40)',        '[40, 50)',        '[50, 60)',\n",
       "              '[60, 70)',        '[70, 80)',        '[80, 90)',\n",
       "             '[90, 100)',      '[100, 110)'],\n",
       "      dtype='object')"
      ]
     },
     "execution_count": 104,
     "metadata": {},
     "output_type": "execute_result"
    }
   ],
   "source": [
    "clean_data.columns"
   ]
  },
  {
   "cell_type": "markdown",
   "metadata": {},
   "source": [
    "# Spliting the data into training and testing data\n"
   ]
  },
  {
   "cell_type": "code",
   "execution_count": 101,
   "metadata": {},
   "outputs": [],
   "source": [
    "random_state = 0\n",
    "\n",
    "class_label_name = 'offersuccessful'\n",
    "\n",
    "variables = clean_data.drop(columns=[class_label_name])\n",
    "class_label = clean_data.filter([class_label_name])\n",
    "\n",
    "(X_train,\n",
    " X_test,\n",
    " y_train,\n",
    " y_test) = train_test_split(variables.values,\n",
    "                            class_label.values,\n",
    "                            test_size=0.2,\n",
    "                            random_state=random_state)\n",
    "\n",
    "variable_names = variables.columns[2:]\n",
    "\n",
    "offerid_train = X_train[:, 0]\n",
    "totalamount_train = X_train[:, 1]\n",
    "X_train = X_train[:, 2:].astype('float64')\n",
    "\n",
    "offerid_test = X_test[:, 0]\n",
    "totalamount_test = X_test[:, 1]\n",
    "X_test = X_test[:, 2:].astype('float64')\n",
    "\n",
    "y_train = y_train.ravel()\n",
    "y_test = y_test.ravel()"
   ]
  },
  {
   "cell_type": "markdown",
   "metadata": {},
   "source": [
    "## Data attributes"
   ]
  },
  {
   "cell_type": "code",
   "execution_count": 102,
   "metadata": {},
   "outputs": [
    {
     "name": "stdout",
     "output_type": "stream",
     "text": [
      "Index([  'difficulty', 'durationdays',       'reward',         'bogo',\n",
      "           'discount',       'mobile',       'social',          'web',\n",
      "             'gender',       'income',           2013,           2014,\n",
      "                 2015,           2016,           2017,           2018,\n",
      "           '[10, 20)',     '[20, 30)',     '[30, 40)',     '[40, 50)',\n",
      "           '[50, 60)',     '[60, 70)',     '[70, 80)',     '[80, 90)',\n",
      "          '[90, 100)',   '[100, 110)'],\n",
      "      dtype='object')\n"
     ]
    }
   ],
   "source": [
    "print(variable_names)"
   ]
  },
  {
   "cell_type": "markdown",
   "metadata": {},
   "source": [
    "# Predictive Modeling"
   ]
  },
  {
   "cell_type": "markdown",
   "metadata": {},
   "source": [
    "## Evaluate naive predictor performance"
   ]
  },
  {
   "cell_type": "code",
   "execution_count": 106,
   "metadata": {},
   "outputs": [
    {
     "name": "stdout",
     "output_type": "stream",
     "text": [
      "Naive predictor accuracy: 0.469\n",
      "Naive predictor f1-score: 0.638\n"
     ]
    }
   ],
   "source": [
    "naive_predictor_accuracy = accuracy_score(y_train,np.ones(len(y_train)))\n",
    "naive_predictor_f1score = f1_score(y_train, np.ones(len(y_train)))\n",
    "\n",
    "print(\"Naive predictor accuracy: %.3f\" % (naive_predictor_accuracy))\n",
    "print(\"Naive predictor f1-score: %.3f\" % (naive_predictor_f1score))"
   ]
  },
  {
   "cell_type": "markdown",
   "metadata": {},
   "source": [
    "## Constructing Logistic Regression model\n",
    "\n",
    "- Results suggest that a logistic regression model's accuracy and f1-score is better than the naive predictor\n",
    "    - Accuracy\n",
    "        - Naive predictor: 0.471\n",
    "        - Logistic regression: 0.722\n",
    "    - F1-score\n",
    "        - Naive predictor: 0.640\n",
    "        - Logistic regression: 0.716"
   ]
  },
  {
   "cell_type": "code",
   "execution_count": 107,
   "metadata": {},
   "outputs": [
    {
     "name": "stdout",
     "output_type": "stream",
     "text": [
      "Fitting 3 folds for each of 6 candidates, totalling 18 fits\n"
     ]
    },
    {
     "name": "stderr",
     "output_type": "stream",
     "text": [
      "[Parallel(n_jobs=3)]: Using backend LokyBackend with 3 concurrent workers.\n",
      "[Parallel(n_jobs=3)]: Done  18 out of  18 | elapsed:    5.3s finished\n"
     ]
    }
   ],
   "source": [
    "model_dir = \"./models\"\n",
    "if not os.path.exists(model_dir):\n",
    "    os.mkdir(model_dir)\n",
    "    \n",
    "lr_model_path = os.path.join(model_dir, 'lr_clf.joblib')\n",
    "\n",
    "scorer = make_scorer(fbeta_score,\n",
    "                     beta=0.5)\n",
    "\n",
    "if os.path.exists(lr_model_path):\n",
    "    lr_random = load(lr_model_path)\n",
    "else:\n",
    "    lr_clf = LogisticRegression(random_state=random_state,\n",
    "                                solver='liblinear')\n",
    "\n",
    "    random_grid = {'penalty': ['l1', 'l2'],\n",
    "                   'C': [1.0, 0.1, 0.01]}\n",
    "\n",
    "    lr_random = RandomizedSearchCV(estimator = lr_clf,\n",
    "                                   param_distributions = random_grid,\n",
    "                                   scoring=scorer,\n",
    "                                   n_iter = 6,\n",
    "                                   cv = 3,\n",
    "                                   verbose=2,\n",
    "                                   random_state=random_state,\n",
    "                                   n_jobs = 3)\n",
    "\n",
    "    lr_random.fit(X_train, y_train)\n",
    "\n",
    "    dump(lr_random, lr_model_path)"
   ]
  },
  {
   "cell_type": "markdown",
   "metadata": {},
   "source": [
    "#### Define model performance evaluation function"
   ]
  },
  {
   "cell_type": "code",
   "execution_count": 108,
   "metadata": {},
   "outputs": [],
   "source": [
    "def evaluate_model_performance(clf,\n",
    "                               X_train,\n",
    "                               y_train):\n",
    "    \"\"\" Prints a model's accuracy and F1-score\n",
    "    \n",
    "    INPUT:\n",
    "        clf: Model object\n",
    "        \n",
    "        X_train: Training data matrix\n",
    "\n",
    "        y_train: Expected model output vector\n",
    "    \n",
    "    OUTPUT:\n",
    "        clf_accuracy: Model accuracy\n",
    "        \n",
    "        clf_f1_score: Model F1-score\"\"\"\n",
    "    class_name = re.sub(\"[<>']\", '', str(clf.__class__))\n",
    "    class_name = class_name.split(' ')[1]\n",
    "    class_name = class_name.split('.')[-1]\n",
    "\n",
    "    y_pred_rf = clf.predict(X_train)\n",
    "\n",
    "    clf_accuracy = accuracy_score(y_train, y_pred_rf)\n",
    "    clf_f1_score = f1_score(y_train, y_pred_rf)\n",
    "    \n",
    "    print(\"%s model accuracy: %.3f\" % (class_name, clf_accuracy))\n",
    "    print(\"%s model f1-score: %.3f\" % (class_name, clf_f1_score))\n",
    "    \n",
    "    return clf_accuracy, clf_f1_score"
   ]
  },
  {
   "cell_type": "markdown",
   "metadata": {},
   "source": [
    "#### Evaluate Logistic Regression Model Performance"
   ]
  },
  {
   "cell_type": "code",
   "execution_count": 109,
   "metadata": {},
   "outputs": [
    {
     "name": "stdout",
     "output_type": "stream",
     "text": [
      "LogisticRegression model accuracy: 0.723\n",
      "LogisticRegression model f1-score: 0.716\n"
     ]
    },
    {
     "data": {
      "text/plain": [
       "(0.7232027140352215, 0.7159315403422983)"
      ]
     },
     "execution_count": 109,
     "metadata": {},
     "output_type": "execute_result"
    }
   ],
   "source": [
    "evaluate_model_performance(lr_random.best_estimator_,\n",
    "                           X_train,\n",
    "                           y_train)"
   ]
  },
  {
   "cell_type": "markdown",
   "metadata": {},
   "source": [
    "## Construct Random Forest Model\n",
    "- Resuls suggest that a random forest model's accuracy and f1-score is better than the naive predictor\n",
    "    - Accuracy\n",
    "        - Naive predictor: 0.471\n",
    "        - Random forest: 0.742\n",
    "    - F1-score\n",
    "        - Naive predictor: 0.640\n",
    "        - Random forest: 0.735"
   ]
  },
  {
   "cell_type": "code",
   "execution_count": 110,
   "metadata": {},
   "outputs": [
    {
     "name": "stdout",
     "output_type": "stream",
     "text": [
      "Fitting 3 folds for each of 100 candidates, totalling 300 fits\n"
     ]
    },
    {
     "name": "stderr",
     "output_type": "stream",
     "text": [
      "[Parallel(n_jobs=3)]: Using backend LokyBackend with 3 concurrent workers.\n",
      "[Parallel(n_jobs=3)]: Done  35 tasks      | elapsed:   34.1s\n",
      "[Parallel(n_jobs=3)]: Done 156 tasks      | elapsed:  2.6min\n",
      "[Parallel(n_jobs=3)]: Done 300 out of 300 | elapsed:  4.5min finished\n"
     ]
    }
   ],
   "source": [
    "rf_model_path = os.path.join(model_dir, 'rf_clf.joblib')\n",
    "\n",
    "if os.path.exists(rf_model_path):\n",
    "    rf_random = load(rf_model_path)\n",
    "else:\n",
    "    rf_clf = RandomForestClassifier(random_state=random_state)\n",
    "\n",
    "    # Number of trees in random forest\n",
    "    n_estimators = [10, 30, 50, 100, 150, 200, 250, 300]\n",
    "\n",
    "    # Number of features to consider at every split\n",
    "    max_features = ['auto', 'sqrt']\n",
    "\n",
    "    # Maximum number of levels in tree\n",
    "    max_depth = [int(x) for x in np.arange(3, 11)]\n",
    "    max_depth.append(None)\n",
    "\n",
    "    # Minimum number of samples required to split a node\n",
    "    min_samples_split = [2, 5, 10]\n",
    "\n",
    "    # Minimum number of samples required at each leaf node\n",
    "    min_samples_leaf = [1, 2, 4]\n",
    "\n",
    "    # Create the random grid\n",
    "    random_grid = {'n_estimators': n_estimators,\n",
    "                   'max_features': max_features,\n",
    "                   'max_depth': max_depth,\n",
    "                   'min_samples_split': min_samples_split,\n",
    "                   'min_samples_leaf': min_samples_leaf}\n",
    "\n",
    "    rf_random = RandomizedSearchCV(estimator = rf_clf,\n",
    "                                   param_distributions = random_grid,\n",
    "                                   scoring=scorer,\n",
    "                                   n_iter = 100,\n",
    "                                   cv = 3,\n",
    "                                   verbose=2,\n",
    "                                   random_state=random_state,\n",
    "                                   n_jobs = 3)\n",
    "\n",
    "    rf_random.fit(X_train, y_train)\n",
    "    \n",
    "    dump(rf_random, rf_model_path)"
   ]
  },
  {
   "cell_type": "markdown",
   "metadata": {},
   "source": [
    "### Evalaute Random Forest Model Performance"
   ]
  },
  {
   "cell_type": "code",
   "execution_count": 111,
   "metadata": {},
   "outputs": [
    {
     "name": "stdout",
     "output_type": "stream",
     "text": [
      "RandomForestClassifier model accuracy: 0.743\n",
      "RandomForestClassifier model f1-score: 0.735\n"
     ]
    },
    {
     "data": {
      "text/plain": [
       "(0.7431767934741176, 0.7346134908911867)"
      ]
     },
     "execution_count": 111,
     "metadata": {},
     "output_type": "execute_result"
    }
   ],
   "source": [
    "evaluate_model_performance(rf_random.best_estimator_,\n",
    "                           X_train,\n",
    "                           y_train)"
   ]
  },
  {
   "cell_type": "markdown",
   "metadata": {},
   "source": [
    "### Plot Estimated Feature Importance\n",
    "- Feature importance refers to a numerical value that describes a feature's contribution to building a model that maximizes its evaluation metric   \n",
    "- These results suggest that the top five features for this problem are:\n",
    "    1. Offer difficulty (how much money a customer must spend to complete an offer)\n",
    "    2. Offer duration\n",
    "    3. Offer reward\n",
    "    4. Customer income\n",
    "    5. Whether a customer created an account on the Starbucks rewards mobile application in 2018  "
   ]
  },
  {
   "cell_type": "code",
   "execution_count": 112,
   "metadata": {},
   "outputs": [
    {
     "data": {
      "text/plain": [
       "Text(0.5, 1.0, 'Random Forest Estimated Feature Importance')"
      ]
     },
     "execution_count": 112,
     "metadata": {},
     "output_type": "execute_result"
    },
    {
     "data": {
      "image/png": "[encoded data removed]",
      "text/plain": [
       "<Figure size 576x576 with 1 Axes>"
      ]
     },
     "metadata": {
      "needs_background": "light"
     },
     "output_type": "display_data"
    }
   ],
   "source": [
    "relative_importance = rf_random.best_estimator_.feature_importances_\n",
    "relative_importance = relative_importance / np.sum(relative_importance)\n",
    "\n",
    "feature_importance =\\\n",
    "    pd.DataFrame(list(zip(variable_names,\n",
    "                          relative_importance)),\n",
    "                 columns=['feature', 'relativeimportance'])\n",
    "\n",
    "feature_importance = feature_importance.sort_values('relativeimportance',\n",
    "                                                    ascending=False)\n",
    "\n",
    "feature_importance = feature_importance.reset_index(drop=True)\n",
    "\n",
    "palette = sns.color_palette(\"Blues_r\", feature_importance.shape[0])\n",
    "\n",
    "plt.figure(figsize=(8, 8))\n",
    "sns.barplot(x='relativeimportance',\n",
    "            y='feature',\n",
    "            data=feature_importance,\n",
    "            palette=palette)\n",
    "plt.xlabel('Relative Importance')\n",
    "plt.ylabel('Feature')\n",
    "plt.title('Random Forest Estimated Feature Importance')"
   ]
  },
  {
   "cell_type": "markdown",
   "metadata": {},
   "source": [
    "#### Print the top 10 features sorted based on their estimated importance"
   ]
  },
  {
   "cell_type": "code",
   "execution_count": 113,
   "metadata": {},
   "outputs": [
    {
     "data": {
      "text/html": [
       "<div>\n",
       "<style scoped>\n",
       "    .dataframe tbody tr th:only-of-type {\n",
       "        vertical-align: middle;\n",
       "    }\n",
       "\n",
       "    .dataframe tbody tr th {\n",
       "        vertical-align: top;\n",
       "    }\n",
       "\n",
       "    .dataframe thead th {\n",
       "        text-align: right;\n",
       "    }\n",
       "</style>\n",
       "<table border=\"1\" class=\"dataframe\">\n",
       "  <thead>\n",
       "    <tr style=\"text-align: right;\">\n",
       "      <th></th>\n",
       "      <th>feature</th>\n",
       "      <th>relativeimportance</th>\n",
       "    </tr>\n",
       "  </thead>\n",
       "  <tbody>\n",
       "    <tr>\n",
       "      <td>0</td>\n",
       "      <td>reward</td>\n",
       "      <td>0.187650</td>\n",
       "    </tr>\n",
       "    <tr>\n",
       "      <td>1</td>\n",
       "      <td>durationdays</td>\n",
       "      <td>0.163017</td>\n",
       "    </tr>\n",
       "    <tr>\n",
       "      <td>2</td>\n",
       "      <td>difficulty</td>\n",
       "      <td>0.161152</td>\n",
       "    </tr>\n",
       "    <tr>\n",
       "      <td>3</td>\n",
       "      <td>income</td>\n",
       "      <td>0.111017</td>\n",
       "    </tr>\n",
       "    <tr>\n",
       "      <td>4</td>\n",
       "      <td>2018</td>\n",
       "      <td>0.097010</td>\n",
       "    </tr>\n",
       "    <tr>\n",
       "      <td>5</td>\n",
       "      <td>social</td>\n",
       "      <td>0.063435</td>\n",
       "    </tr>\n",
       "    <tr>\n",
       "      <td>6</td>\n",
       "      <td>2016</td>\n",
       "      <td>0.049229</td>\n",
       "    </tr>\n",
       "    <tr>\n",
       "      <td>7</td>\n",
       "      <td>discount</td>\n",
       "      <td>0.033663</td>\n",
       "    </tr>\n",
       "    <tr>\n",
       "      <td>8</td>\n",
       "      <td>gender</td>\n",
       "      <td>0.027470</td>\n",
       "    </tr>\n",
       "    <tr>\n",
       "      <td>9</td>\n",
       "      <td>bogo</td>\n",
       "      <td>0.026463</td>\n",
       "    </tr>\n",
       "  </tbody>\n",
       "</table>\n",
       "</div>"
      ],
      "text/plain": [
       "        feature  relativeimportance\n",
       "0        reward            0.187650\n",
       "1  durationdays            0.163017\n",
       "2    difficulty            0.161152\n",
       "3        income            0.111017\n",
       "4          2018            0.097010\n",
       "5        social            0.063435\n",
       "6          2016            0.049229\n",
       "7      discount            0.033663\n",
       "8        gender            0.027470\n",
       "9          bogo            0.026463"
      ]
     },
     "execution_count": 113,
     "metadata": {},
     "output_type": "execute_result"
    }
   ],
   "source": [
    "feature_importance.head(n=10)"
   ]
  },
  {
   "cell_type": "markdown",
   "metadata": {},
   "source": [
    "## Constructing a Gradient Boosting classifier\n",
    "- Resuls suggest that a gradient boosting model's accuracy and f1-score is better than the naive predictor\n",
    "    - Accuracy\n",
    "        - Naive predictor: 0.471\n",
    "        - Gradient boosting: 0.736\n",
    "    - F1-score\n",
    "        - Naive predictor: 0.640\n",
    "        - Gradient boosting: 0.725"
   ]
  },
  {
   "cell_type": "code",
   "execution_count": 114,
   "metadata": {},
   "outputs": [
    {
     "name": "stdout",
     "output_type": "stream",
     "text": [
      "Fitting 3 folds for each of 100 candidates, totalling 300 fits\n"
     ]
    },
    {
     "name": "stderr",
     "output_type": "stream",
     "text": [
      "[Parallel(n_jobs=3)]: Using backend LokyBackend with 3 concurrent workers.\n",
      "[Parallel(n_jobs=3)]: Done  35 tasks      | elapsed:  2.0min\n",
      "[Parallel(n_jobs=3)]: Done 156 tasks      | elapsed:  7.0min\n",
      "[Parallel(n_jobs=3)]: Done 300 out of 300 | elapsed: 12.9min finished\n"
     ]
    }
   ],
   "source": [
    "gb_model_path = os.path.join(model_dir, 'gb_clf.joblib')\n",
    "\n",
    "if os.path.exists(gb_model_path):\n",
    "    gb_random = load(gb_model_path)\n",
    "else:\n",
    "    gb_clf = GradientBoostingClassifier(random_state=random_state)\n",
    "\n",
    "    # Create the random grid\n",
    "    random_grid = {'loss': ['deviance', 'exponential'],\n",
    "                   'learning_rate': [0.1, 0.01, 0.001],\n",
    "                   'n_estimators': [10, 30, 50, 100, 150, 200, 250, 300],\n",
    "                   'min_samples_leaf': min_samples_leaf,\n",
    "                   'min_samples_split': min_samples_split}\n",
    "\n",
    "    gb_random = RandomizedSearchCV(estimator = gb_clf,\n",
    "                                   param_distributions = random_grid,\n",
    "                                   scoring=scorer,\n",
    "                                   n_iter = 100,\n",
    "                                   cv = 3,\n",
    "                                   verbose=2,\n",
    "                                   random_state=random_state,\n",
    "                                   n_jobs = 3)\n",
    "\n",
    "    gb_random.fit(X_train, y_train)\n",
    "\n",
    "    dump(gb_random, gb_model_path)"
   ]
  },
  {
   "cell_type": "markdown",
   "metadata": {},
   "source": [
    "### Evaluate Gradient Boosting Model Performance"
   ]
  },
  {
   "cell_type": "code",
   "execution_count": 115,
   "metadata": {},
   "outputs": [
    {
     "name": "stdout",
     "output_type": "stream",
     "text": [
      "GradientBoostingClassifier model accuracy: 0.735\n",
      "GradientBoostingClassifier model f1-score: 0.723\n"
     ]
    },
    {
     "data": {
      "text/plain": [
       "(0.7351909735457803, 0.7229400973119566)"
      ]
     },
     "execution_count": 115,
     "metadata": {},
     "output_type": "execute_result"
    }
   ],
   "source": [
    "evaluate_model_performance(gb_random.best_estimator_,\n",
    "                           X_train,\n",
    "                           y_train)"
   ]
  },
  {
   "cell_type": "markdown",
   "metadata": {},
   "source": [
    "# Tune the best model\n",
    "- Model ranking based on training data accuracy\n",
    "    1. RandomForestClassifier model accuracy: 0.742\n",
    "    2. GradientBoostingClassifier model accuracy: 0.736\n",
    "    3. LogisticRegression model accuracy: 0.722\n",
    "    4. Naive predictor accuracy: 0.471\n",
    "- Model ranking based on training data F1-score\n",
    "    1. RandomForestClassifier model f1-score: 0.735\n",
    "    2. GradientBoostingClassifier model f1-score: 0.725\n",
    "    3. LogisticRegression model f1-score: 0.716\n",
    "    4. Naive predictor f1-score: 0.640\n",
    "- Results suggest that the random forest model has the best training data accuracy and F1-score  \n",
    "\n",
    "A logistic regression model constructs a linear decision boundary to separate successful and unsuccessful offers. However, based on the exploratory analysis the decision boundary could be non-linear. Therefore, an ensemble method like random forest or gradient boosting should perform better.\n",
    "Both random forest and gradient boosting models are a combination of multiple decision trees. A random forest classifier randomly samples the training data with replacement to construct a set of decision trees that are combined using majority voting. In contrast, gradient boosting iteratively constructs a set of decision trees with the goal of reducing the number of misclassified training data samples from the previous iteration. A consequence of these model construction strategies is that the depth of decision trees generated during random forest model training are typically greater than gradient boosting weak learner depth to minimize model variance. Typically, gradient boosting performs better than a random forest classifier. However, gradient boosting may overfit the training data and requires additional effort to tune. A random forest classifier is less prone to overfitting because it constructs decision trees from random training data samples. Also, a random forest classifier’s hyperparameters are easier to optimize.\n",
    "\n",
    "Link - https://blog.citizennet.com/blog/2012/11/10/random-forests-ensembles-and-performance-metrics & https://www.quora.com/How-can-the-performance-of-a-Gradient-Boosting-Machine-be-worse-than-Random-Forests"
   ]
  },
  {
   "cell_type": "code",
   "execution_count": 116,
   "metadata": {},
   "outputs": [
    {
     "name": "stdout",
     "output_type": "stream",
     "text": [
      "LogisticRegression model accuracy: 0.723\n",
      "LogisticRegression model f1-score: 0.716\n",
      "RandomForestClassifier model accuracy: 0.743\n",
      "RandomForestClassifier model f1-score: 0.735\n",
      "GradientBoostingClassifier model accuracy: 0.735\n",
      "GradientBoostingClassifier model f1-score: 0.723\n"
     ]
    },
    {
     "data": {
      "text/html": [
       "<div>\n",
       "<style scoped>\n",
       "    .dataframe tbody tr th:only-of-type {\n",
       "        vertical-align: middle;\n",
       "    }\n",
       "\n",
       "    .dataframe tbody tr th {\n",
       "        vertical-align: top;\n",
       "    }\n",
       "\n",
       "    .dataframe thead th {\n",
       "        text-align: right;\n",
       "    }\n",
       "</style>\n",
       "<table border=\"1\" class=\"dataframe\">\n",
       "  <thead>\n",
       "    <tr style=\"text-align: right;\">\n",
       "      <th></th>\n",
       "      <th>classifiertype</th>\n",
       "      <th>accuracy</th>\n",
       "      <th>f1score</th>\n",
       "    </tr>\n",
       "  </thead>\n",
       "  <tbody>\n",
       "    <tr>\n",
       "      <td>0</td>\n",
       "      <td>randomforest</td>\n",
       "      <td>0.743177</td>\n",
       "      <td>0.734613</td>\n",
       "    </tr>\n",
       "    <tr>\n",
       "      <td>1</td>\n",
       "      <td>gradientboosting</td>\n",
       "      <td>0.735191</td>\n",
       "      <td>0.722940</td>\n",
       "    </tr>\n",
       "    <tr>\n",
       "      <td>2</td>\n",
       "      <td>logisticregression</td>\n",
       "      <td>0.723203</td>\n",
       "      <td>0.715932</td>\n",
       "    </tr>\n",
       "    <tr>\n",
       "      <td>3</td>\n",
       "      <td>naivepredictor</td>\n",
       "      <td>0.468800</td>\n",
       "      <td>0.638344</td>\n",
       "    </tr>\n",
       "  </tbody>\n",
       "</table>\n",
       "</div>"
      ],
      "text/plain": [
       "       classifiertype  accuracy   f1score\n",
       "0        randomforest  0.743177  0.734613\n",
       "1    gradientboosting  0.735191  0.722940\n",
       "2  logisticregression  0.723203  0.715932\n",
       "3      naivepredictor  0.468800  0.638344"
      ]
     },
     "execution_count": 116,
     "metadata": {},
     "output_type": "execute_result"
    }
   ],
   "source": [
    "model_performance = []\n",
    "\n",
    "classifier_type = ['naivepredictor',\n",
    "                   'logisticregression',\n",
    "                   'randomforest',\n",
    "                   'gradientboosting']\n",
    "\n",
    "model_performance.append((naive_predictor_accuracy,\n",
    "                          naive_predictor_f1score))\n",
    "\n",
    "model_performance.append(evaluate_model_performance(lr_random.best_estimator_,\n",
    "                                                    X_train,\n",
    "                                                    y_train))\n",
    "\n",
    "model_performance.append(evaluate_model_performance(rf_random.best_estimator_,\n",
    "                                                    X_train,\n",
    "                                                    y_train))\n",
    "\n",
    "model_performance.append(evaluate_model_performance(gb_random.best_estimator_,\n",
    "                                                    X_train,\n",
    "                                                    y_train))\n",
    "\n",
    "model_performance = pd.DataFrame(model_performance,\n",
    "                                 columns=['accuracy', 'f1score'])\n",
    "\n",
    "classifier_type = pd.DataFrame(classifier_type,\n",
    "                               columns=['classifiertype'])\n",
    "\n",
    "model_performance = pd.concat([classifier_type, model_performance],\n",
    "                              axis=1)\n",
    "\n",
    "model_performance = model_performance.sort_values('accuracy', ascending=False)\n",
    "model_performance = model_performance.reset_index(drop=True)\n",
    "model_performance"
   ]
  },
  {
   "cell_type": "markdown",
   "metadata": {},
   "source": [
    "## Print the Best Model's Hyperparameters"
   ]
  },
  {
   "cell_type": "code",
   "execution_count": 117,
   "metadata": {},
   "outputs": [
    {
     "name": "stdout",
     "output_type": "stream",
     "text": [
      "RandomForestClassifier(bootstrap=True, class_weight=None, criterion='gini',\n",
      "                       max_depth=10, max_features='auto', max_leaf_nodes=None,\n",
      "                       min_impurity_decrease=0.0, min_impurity_split=None,\n",
      "                       min_samples_leaf=1, min_samples_split=10,\n",
      "                       min_weight_fraction_leaf=0.0, n_estimators=150,\n",
      "                       n_jobs=None, oob_score=False, random_state=0, verbose=0,\n",
      "                       warm_start=False)\n"
     ]
    }
   ],
   "source": [
    "print(rf_random.best_estimator_)"
   ]
  },
  {
   "cell_type": "markdown",
   "metadata": {},
   "source": [
    "## Refine Best Model\n",
    "- Refine model hyperparameter space\n",
    "    - [Hyperparameter Tuning the Random Forest in Python](https://towardsdatascience.com/hyperparameter-tuning-the-random-forest-in-python-using-scikit-learn-28d2aa77dd74)  "
   ]
  },
  {
   "cell_type": "code",
   "execution_count": 118,
   "metadata": {},
   "outputs": [
    {
     "name": "stdout",
     "output_type": "stream",
     "text": [
      "Fitting 5 folds for each of 270 candidates, totalling 1350 fits\n"
     ]
    },
    {
     "name": "stderr",
     "output_type": "stream",
     "text": [
      "[Parallel(n_jobs=3)]: Using backend LokyBackend with 3 concurrent workers.\n",
      "[Parallel(n_jobs=3)]: Done  35 tasks      | elapsed:  1.9min\n",
      "[Parallel(n_jobs=3)]: Done 156 tasks      | elapsed:  8.1min\n",
      "[Parallel(n_jobs=3)]: Done 359 tasks      | elapsed: 19.0min\n",
      "[Parallel(n_jobs=3)]: Done 642 tasks      | elapsed: 35.1min\n",
      "[Parallel(n_jobs=3)]: Done 1007 tasks      | elapsed: 57.7min\n",
      "[Parallel(n_jobs=3)]: Done 1350 out of 1350 | elapsed: 80.5min finished\n"
     ]
    },
    {
     "name": "stdout",
     "output_type": "stream",
     "text": [
      "RandomForestClassifier model accuracy: 0.752\n",
      "RandomForestClassifier model f1-score: 0.742\n"
     ]
    },
    {
     "data": {
      "text/plain": [
       "(0.7519440420827933, 0.741811978019798)"
      ]
     },
     "execution_count": 118,
     "metadata": {},
     "output_type": "execute_result"
    }
   ],
   "source": [
    "grid_fit_path = os.path.join(model_dir, 'grid_fit.joblib')\n",
    "\n",
    "if os.path.exists(grid_fit_path):\n",
    "    grid_fit = load(grid_fit_path)\n",
    "else:\n",
    "    parameters = {'n_estimators': [300, 350, 400, 450, 500],\n",
    "                  'max_depth': [10, 11, 12, 13, 14, 15],\n",
    "                  'min_samples_leaf': min_samples_leaf,\n",
    "                  'min_samples_split': min_samples_split,\n",
    "                  'random_state': [random_state]}\n",
    "\n",
    "    grid_obj = GridSearchCV(rf_clf,\n",
    "                            parameters,\n",
    "                            scoring=scorer,\n",
    "                            cv=5,\n",
    "                            n_jobs=3,\n",
    "                            verbose=2)\n",
    "\n",
    "    grid_fit = grid_obj.fit(X_train,\n",
    "                            y_train)\n",
    "\n",
    "    dump(grid_fit, grid_fit_path)\n",
    "\n",
    "# Get the estimator\n",
    "best_clf = grid_fit.best_estimator_\n",
    "\n",
    "evaluate_model_performance(best_clf,\n",
    "                           X_train,\n",
    "                           y_train)"
   ]
  },
  {
   "cell_type": "markdown",
   "metadata": {},
   "source": [
    "### Print the Refined Random Forest Model's Hyperparameters"
   ]
  },
  {
   "cell_type": "code",
   "execution_count": 119,
   "metadata": {},
   "outputs": [
    {
     "data": {
      "text/plain": [
       "RandomForestClassifier(bootstrap=True, class_weight=None, criterion='gini',\n",
       "                       max_depth=11, max_features='auto', max_leaf_nodes=None,\n",
       "                       min_impurity_decrease=0.0, min_impurity_split=None,\n",
       "                       min_samples_leaf=2, min_samples_split=2,\n",
       "                       min_weight_fraction_leaf=0.0, n_estimators=400,\n",
       "                       n_jobs=None, oob_score=False, random_state=0, verbose=0,\n",
       "                       warm_start=False)"
      ]
     },
     "execution_count": 119,
     "metadata": {},
     "output_type": "execute_result"
    }
   ],
   "source": [
    "best_clf"
   ]
  },
  {
   "cell_type": "markdown",
   "metadata": {},
   "source": [
    "### Evaluate Test Data Performance"
   ]
  },
  {
   "cell_type": "code",
   "execution_count": 120,
   "metadata": {},
   "outputs": [
    {
     "name": "stdout",
     "output_type": "stream",
     "text": [
      "RandomForestClassifier model accuracy: 0.733\n",
      "RandomForestClassifier model f1-score: 0.727\n"
     ]
    },
    {
     "data": {
      "text/plain": [
       "(0.7331706945185636, 0.7266479225242112)"
      ]
     },
     "execution_count": 120,
     "metadata": {},
     "output_type": "execute_result"
    }
   ],
   "source": [
    "evaluate_model_performance(best_clf,\n",
    "                           X_test,\n",
    "                           y_test)"
   ]
  },
  {
   "cell_type": "markdown",
   "metadata": {},
   "source": [
    "# Conclusion"
   ]
  },
  {
   "cell_type": "markdown",
   "metadata": {},
   "source": [
    "The analysis suggests that a random forest model has the best training data accuracy and F1-score. The refined random forest model hyperparameters using a grid search suggests that the resulting random forest model has a training data accuracy of 0.752 and an F1-score of 0.742. The test data set accuracy of 0.733 and F1-score of 0.727 suggests that the random forest model we constructed did not overfit the data.\n",
    "The top five features based on their importance are:\n",
    "Reward, duration days, difficulty, income and whether a customer created an account on the Starbucks rewards mobile application in 2018.\n",
    "\n"
   ]
  },
  {
   "cell_type": "markdown",
   "metadata": {},
   "source": [
    "# Future improvements\n",
    "\n",
    "Since the top three features are associated with a customer offer, it may be possible to improve the performance of a random forest model by creating features that describe an offer’s success rate as a function of offer difficulty, duration, and reward. These additional features should provide a random forest classifier the opportunity to construct a better decision boundary that separates successful and unsuccessful customer offers."
   ]
  },
  {
   "cell_type": "code",
   "execution_count": null,
   "metadata": {},
   "outputs": [],
   "source": []
  }
 ],
 "metadata": {
  "hide_input": false,
  "kernelspec": {
   "display_name": "Python 3",
   "language": "python",
   "name": "python3"
  },
  "language_info": {
   "codemirror_mode": {
    "name": "ipython",
    "version": 3
   },
   "file_extension": ".py",
   "mimetype": "text/x-python",
   "name": "python",
   "nbconvert_exporter": "python",
   "pygments_lexer": "ipython3",
   "version": "3.7.4"
  },
  "toc": {
   "base_numbering": 1,
   "nav_menu": {},
   "number_sections": true,
   "sideBar": true,
   "skip_h1_title": false,
   "title_cell": "Table of Contents",
   "title_sidebar": "Contents",
   "toc_cell": false,
   "toc_position": {},
   "toc_section_display": true,
   "toc_window_display": false
  }
 },
 "nbformat": 4,
 "nbformat_minor": 2
}
